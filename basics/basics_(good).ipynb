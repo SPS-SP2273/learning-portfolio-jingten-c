{
 "cells": [
  {
   "cell_type": "markdown",
   "id": "123456",
   "metadata": {},
   "source": [
    "<div style=\"text-align:left;font-size:2em\"><span style=\"font-weight:bolder;font-size:1.25em\">SP2273 | Learning Portfolio</span><br><br><span style=\"font-weight:bold;color:darkred\">Basics (Good)</span></div>"
   ]
  },
  {
   "cell_type": "markdown",
   "id": "12b15d5b",
   "metadata": {},
   "source": [
    "## 1 More Python Basics"
   ]
  },
  {
   "cell_type": "markdown",
   "id": "d9b1bb95",
   "metadata": {},
   "source": [
    "### 1.1 Computers read = from Right to Left!"
   ]
  },
  {
   "cell_type": "code",
   "execution_count": 4,
   "id": "f640896c",
   "metadata": {},
   "outputs": [
    {
     "name": "stdout",
     "output_type": "stream",
     "text": [
      "42\n",
      "fish\n"
     ]
    }
   ],
   "source": [
    "y = 40\n",
    "y = y + 2\n",
    "print(y)\n",
    "y = 'fish'\n",
    "print(y)\n",
    "k = l = 50"
   ]
  },
  {
   "cell_type": "markdown",
   "id": "fb484234",
   "metadata": {},
   "source": [
    "### 1.2 Shorter and cleaner"
   ]
  },
  {
   "cell_type": "code",
   "execution_count": 7,
   "id": "8a73dc9e",
   "metadata": {},
   "outputs": [
    {
     "data": {
      "text/plain": [
       "11"
      ]
     },
     "execution_count": 7,
     "metadata": {},
     "output_type": "execute_result"
    }
   ],
   "source": [
    "x = 10\n",
    "x += 1   \n",
    "x"
   ]
  },
  {
   "cell_type": "code",
   "execution_count": 8,
   "id": "8e355257",
   "metadata": {},
   "outputs": [
    {
     "data": {
      "text/plain": [
       "9"
      ]
     },
     "execution_count": 8,
     "metadata": {},
     "output_type": "execute_result"
    }
   ],
   "source": [
    "x = 10\n",
    "x -= 1     \n",
    "x"
   ]
  },
  {
   "cell_type": "code",
   "execution_count": 9,
   "id": "f605a63f",
   "metadata": {},
   "outputs": [
    {
     "data": {
      "text/plain": [
       "10.0"
      ]
     },
     "execution_count": 9,
     "metadata": {},
     "output_type": "execute_result"
    }
   ],
   "source": [
    "x = 50\n",
    "x /= 5    \n",
    "x"
   ]
  },
  {
   "cell_type": "code",
   "execution_count": 13,
   "id": "c7db7470",
   "metadata": {},
   "outputs": [
    {
     "data": {
      "text/plain": [
       "(20, 4)"
      ]
     },
     "execution_count": 13,
     "metadata": {},
     "output_type": "execute_result"
    }
   ],
   "source": [
    "x = 10\n",
    "x *= 2    \n",
    "y = 2\n",
    "y **=2\n",
    "x, y"
   ]
  },
  {
   "cell_type": "markdown",
   "id": "f889b770",
   "metadata": {},
   "source": [
    "### 1.3 Asking questions"
   ]
  },
  {
   "cell_type": "code",
   "execution_count": 14,
   "id": "1bbe278e",
   "metadata": {},
   "outputs": [
    {
     "data": {
      "text/plain": [
       "True"
      ]
     },
     "execution_count": 14,
     "metadata": {},
     "output_type": "execute_result"
    }
   ],
   "source": [
    "food = [\"sushi\", \"potato\", \"pie\"]\n",
    "fish = [\"gold\", \"whale\", \"dolphin\", \"shark\"]\n",
    "\"gold\" in fish"
   ]
  },
  {
   "cell_type": "code",
   "execution_count": 15,
   "id": "8ddaeffd",
   "metadata": {},
   "outputs": [
    {
     "data": {
      "text/plain": [
       "False"
      ]
     },
     "execution_count": 15,
     "metadata": {},
     "output_type": "execute_result"
    }
   ],
   "source": [
    "\"rocks\" in food"
   ]
  },
  {
   "cell_type": "code",
   "execution_count": 16,
   "id": "a3c5132f",
   "metadata": {},
   "outputs": [
    {
     "data": {
      "text/plain": [
       "True"
      ]
     },
     "execution_count": 16,
     "metadata": {},
     "output_type": "execute_result"
    }
   ],
   "source": [
    "\"rocks\" not in food"
   ]
  },
  {
   "cell_type": "code",
   "execution_count": 17,
   "id": "fd37e7e2",
   "metadata": {},
   "outputs": [
    {
     "data": {
      "text/plain": [
       "False"
      ]
     },
     "execution_count": 17,
     "metadata": {},
     "output_type": "execute_result"
    }
   ],
   "source": [
    "(\"gold\" in fish) and (\"carrot\" in food)"
   ]
  },
  {
   "cell_type": "code",
   "execution_count": 18,
   "id": "d41c656e",
   "metadata": {},
   "outputs": [
    {
     "data": {
      "text/plain": [
       "True"
      ]
     },
     "execution_count": 18,
     "metadata": {},
     "output_type": "execute_result"
    }
   ],
   "source": [
    "(\"gold\" in fish) or (\"carrot\" in food)"
   ]
  },
  {
   "cell_type": "code",
   "execution_count": 20,
   "id": "6f0b1281",
   "metadata": {},
   "outputs": [
    {
     "data": {
      "text/plain": [
       "False"
      ]
     },
     "execution_count": 20,
     "metadata": {},
     "output_type": "execute_result"
    }
   ],
   "source": [
    "\"gold\" == \"fish\""
   ]
  },
  {
   "cell_type": "code",
   "execution_count": 21,
   "id": "17114a86",
   "metadata": {},
   "outputs": [
    {
     "data": {
      "text/plain": [
       "True"
      ]
     },
     "execution_count": 21,
     "metadata": {},
     "output_type": "execute_result"
    }
   ],
   "source": [
    "\"sushi\" >= \"fish\""
   ]
  },
  {
   "cell_type": "code",
   "execution_count": 10,
   "id": "c50ffabb",
   "metadata": {},
   "outputs": [
    {
     "name": "stdout",
     "output_type": "stream",
     "text": [
      "True\n",
      "True\n"
     ]
    }
   ],
   "source": [
    "print('s' > 'f') # 115>102\n",
    "print('sf' > 'fs') # Only evaluates the first letter"
   ]
  },
  {
   "cell_type": "code",
   "execution_count": 9,
   "id": "0ea4c4f0",
   "metadata": {},
   "outputs": [
    {
     "name": "stdout",
     "output_type": "stream",
     "text": [
      "True\n"
     ]
    }
   ],
   "source": [
    "print('ss' > 'sf') #If first letter value is the same, evaluates the second letter"
   ]
  },
  {
   "cell_type": "markdown",
   "id": "bda83691",
   "metadata": {},
   "source": [
    "### 1.4 There is more to if"
   ]
  },
  {
   "cell_type": "code",
   "execution_count": 23,
   "id": "f728103b",
   "metadata": {
    "code_folding": []
   },
   "outputs": [
    {
     "name": "stdout",
     "output_type": "stream",
     "text": [
      "Aloha!\n"
     ]
    }
   ],
   "source": [
    "location = 'Hawaii'\n",
    "\n",
    "if location == 'Hawaii':\n",
    "    print('Aloha!')\n",
    "elif location == 'Italy':\n",
    "    print('Pineapple belongs on pizza.')\n",
    "else:\n",
    "    print('go on a vacation')"
   ]
  },
  {
   "cell_type": "markdown",
   "id": "74d2223a",
   "metadata": {},
   "source": [
    "### 1.5 Python stores information in different formats or types."
   ]
  },
  {
   "cell_type": "code",
   "execution_count": 31,
   "id": "9f64efad",
   "metadata": {},
   "outputs": [
    {
     "name": "stdout",
     "output_type": "stream",
     "text": [
      "0 <class 'int'>\n",
      "0.7 <class 'str'>\n",
      "0.7 <class 'float'>\n",
      "(1.234+0j) <class 'complex'>\n"
     ]
    }
   ],
   "source": [
    "x = int(0.7)\n",
    "print(x, type(x))\n",
    "y = str(0.7)\n",
    "print(y, type(y))\n",
    "z= 0.7\n",
    "print(z, type(z))\n",
    "x = complex(1.234)\n",
    "print(x, type(x))"
   ]
  },
  {
   "cell_type": "markdown",
   "id": "753b62a3",
   "metadata": {},
   "source": [
    "### 1.6 Combining English and variables"
   ]
  },
  {
   "cell_type": "code",
   "execution_count": 33,
   "id": "e0c59726",
   "metadata": {},
   "outputs": [
    {
     "name": "stdout",
     "output_type": "stream",
     "text": [
      "Hello Batman!\n"
     ]
    }
   ],
   "source": [
    "name = \"Batman\"\n",
    "print(f\"Hello {name}!\")"
   ]
  },
  {
   "cell_type": "code",
   "execution_count": 34,
   "id": "6b04a188",
   "metadata": {},
   "outputs": [
    {
     "name": "stdout",
     "output_type": "stream",
     "text": [
      "Hello BATMAN!\n"
     ]
    }
   ],
   "source": [
    "name = \"Batman\"\n",
    "print(f\"Hello {name.upper()}!\")\n"
   ]
  },
  {
   "cell_type": "code",
   "execution_count": 35,
   "id": "9e57e161",
   "metadata": {},
   "outputs": [
    {
     "name": "stdout",
     "output_type": "stream",
     "text": [
      "The value of 10 squared is 100!\n"
     ]
    }
   ],
   "source": [
    "x = 10\n",
    "print(f\"The value of {x} squared is {x**2}!\")"
   ]
  },
  {
   "cell_type": "code",
   "execution_count": 41,
   "id": "5f57fb2f",
   "metadata": {},
   "outputs": [
    {
     "name": "stdout",
     "output_type": "stream",
     "text": [
      "                 This is fine.\n",
      "        This is fine.         \n",
      "This is fine.                 \n"
     ]
    }
   ],
   "source": [
    "text = 'This is fine.'\n",
    "print(f'{text:>30}')\n",
    "print(f'{text:^30}')\n",
    "print(f'{text:<30}')"
   ]
  },
  {
   "cell_type": "code",
   "execution_count": 42,
   "id": "b1ebd254",
   "metadata": {},
   "outputs": [
    {
     "name": "stdout",
     "output_type": "stream",
     "text": [
      "The cube of pi to 6 decimal places is 31.006277\n"
     ]
    }
   ],
   "source": [
    "print(f'The cube of pi to 6 decimal places is {np.pi**3:.6f}')"
   ]
  },
  {
   "cell_type": "code",
   "execution_count": 43,
   "id": "ef1b3ea5",
   "metadata": {},
   "outputs": [
    {
     "name": "stdout",
     "output_type": "stream",
     "text": [
      "The cube of pi to 6 decimal places is 3.100628e+01\n"
     ]
    }
   ],
   "source": [
    "print(f'The cube of pi to 6 decimal places is {np.pi**3:.6e}')"
   ]
  },
  {
   "cell_type": "code",
   "execution_count": 2,
   "id": "6ff75056",
   "metadata": {},
   "outputs": [
    {
     "name": "stdout",
     "output_type": "stream",
     "text": [
      "The value of pi is 3.141592653589793.\n",
      "The square of pi is 9.869604401089358.\n",
      "The cube of pi is 31.006276680299816.\n"
     ]
    }
   ],
   "source": [
    "x = np.pi\n",
    "print(f'The value of pi is {x}.')\n",
    "print(f'The square of pi is {x**2}.')\n",
    "print(f'The cube of pi is {x**3}.')\n",
    "# Default 15 decimal places"
   ]
  },
  {
   "cell_type": "markdown",
   "id": "8bbb4f16",
   "metadata": {},
   "source": [
    "### 1.7 Python can be a prima-donna."
   ]
  },
  {
   "cell_type": "code",
   "execution_count": null,
   "id": "e0945984",
   "metadata": {},
   "outputs": [],
   "source": [
    "# Write programs for people, not computers.\n",
    "# Optimise software only after it works correctly.\n",
    "# Document design and purpose, not mechanics.\n",
    "# Collaborate."
   ]
  },
  {
   "cell_type": "markdown",
   "id": "37f69253",
   "metadata": {},
   "source": [
    "## 2 Best Practices for Scientific Computing"
   ]
  },
  {
   "cell_type": "markdown",
   "id": "6770ea28",
   "metadata": {},
   "source": [
    "### 2.1 Some tips"
   ]
  },
  {
   "cell_type": "code",
   "execution_count": null,
   "id": "19b30be2",
   "metadata": {},
   "outputs": [],
   "source": [
    "\n",
    "# Your code here\n"
   ]
  },
  {
   "cell_type": "markdown",
   "id": "57a31e79",
   "metadata": {},
   "source": [
    "### 2.2 Getting help."
   ]
  },
  {
   "cell_type": "code",
   "execution_count": 44,
   "id": "d6b684a2",
   "metadata": {},
   "outputs": [
    {
     "name": "stdout",
     "output_type": "stream",
     "text": [
      "Help on built-in function print in module builtins:\n",
      "\n",
      "print(...)\n",
      "    print(value, ..., sep=' ', end='\\n', file=sys.stdout, flush=False)\n",
      "    \n",
      "    Prints the values to a stream, or to sys.stdout by default.\n",
      "    Optional keyword arguments:\n",
      "    file:  a file-like object (stream); defaults to the current sys.stdout.\n",
      "    sep:   string inserted between values, default a space.\n",
      "    end:   string appended after the last value, default a newline.\n",
      "    flush: whether to forcibly flush the stream.\n",
      "\n"
     ]
    }
   ],
   "source": [
    "help(print)\n"
   ]
  },
  {
   "cell_type": "markdown",
   "id": "caf35b8f",
   "metadata": {},
   "source": [
    "## Exercise 1 :  Bias for some heroes"
   ]
  },
  {
   "cell_type": "code",
   "execution_count": 47,
   "id": "aba10ff2",
   "metadata": {},
   "outputs": [
    {
     "name": "stdout",
     "output_type": "stream",
     "text": [
      "Hello BATMAN!\n",
      "Hello BLACK WIDOW!\n",
      "hello world!\n"
     ]
    }
   ],
   "source": [
    "def hello(name):\n",
    "    if name == \"Batman\" or name == \"Black Widow\":\n",
    "        print(f\"Hello {name.upper()}!\")\n",
    "    else:\n",
    "        print(\"hello world!\")\n",
    "\n",
    "hello(\"Batman\")\n",
    "hello(\"Black Widow\")\n",
    "hello(\"Aqua Man\")"
   ]
  },
  {
   "cell_type": "code",
   "execution_count": 6,
   "id": "70db0ec8",
   "metadata": {},
   "outputs": [
    {
     "name": "stdout",
     "output_type": "stream",
     "text": [
      "Hello BATMAN!\n",
      "Hello BLACK WIDOW!\n",
      "Hello AQUA MAN!\n"
     ]
    }
   ],
   "source": [
    "def hello(name):\n",
    "    if name == \"Batman\" or \"Black Widow\": # returns bool(name == 'Batman') or bool('Black Widow')\n",
    "        print(f\"Hello {name.upper()}!\") # bool('Black Widow will always be True')\n",
    "    else:\n",
    "        print(\"hello world!\")\n",
    "\n",
    "hello(\"Batman\")\n",
    "hello(\"Black Widow\")\n",
    "hello(\"Aqua Man\")"
   ]
  },
  {
   "cell_type": "code",
   "execution_count": 11,
   "id": "a2cd8a69",
   "metadata": {},
   "outputs": [
    {
     "name": "stdout",
     "output_type": "stream",
     "text": [
      "Hello BATMAN!\n",
      "Hello BLACK WIDOW!\n",
      "hello world!\n"
     ]
    }
   ],
   "source": [
    "def hello(name):\n",
    "    if name == \"Batman\":\n",
    "        print(f\"Hello {name.upper()}!\")\n",
    "    elif name == \"Black Widow\":\n",
    "        print(f\"Hello {name.upper()}!\")\n",
    "    else:\n",
    "        print(\"hello world!\")\n",
    "        \n",
    "hello(\"Batman\")\n",
    "hello(\"Black Widow\")\n",
    "hello(\"Aqua Man\")"
   ]
  },
  {
   "cell_type": "markdown",
   "id": "e001fc2d",
   "metadata": {},
   "source": [
    "## Exercise 2 :  Bias for some heroes, continues"
   ]
  },
  {
   "cell_type": "code",
   "execution_count": 3,
   "id": "c3042d81",
   "metadata": {},
   "outputs": [
    {
     "name": "stdout",
     "output_type": "stream",
     "text": [
      "Hello BATMAN!\n",
      "Hello BLACK WIDOW!\n",
      "hello world!\n"
     ]
    }
   ],
   "source": [
    "def hello(name):\n",
    "    name = name.upper()\n",
    "    if name == \"BATMAN\" or name == \"BLACK WIDOW\":\n",
    "        print(f\"Hello {name}!\")\n",
    "    else:\n",
    "        print(\"hello world!\")\n",
    "\n",
    "hello(\"Batman\")\n",
    "hello(\"Black Widow\")\n",
    "hello(\"Aqua Man\")\n",
    "\n"
   ]
  },
  {
   "cell_type": "markdown",
   "id": "6076a126",
   "metadata": {},
   "source": [
    "## Exercise 3 :  Look for help to replace"
   ]
  },
  {
   "cell_type": "code",
   "execution_count": 54,
   "id": "92d64068",
   "metadata": {},
   "outputs": [
    {
     "data": {
      "text/plain": [
       "'The Batman lives in Gotham City.'"
      ]
     },
     "execution_count": 54,
     "metadata": {},
     "output_type": "execute_result"
    }
   ],
   "source": [
    "'The Joker lives in Gotham City.'.replace(\"Joker\", \"Batman\")\n",
    "\n"
   ]
  }
 ],
 "metadata": {
  "kernelspec": {
   "display_name": "Python 3 (ipykernel)",
   "language": "python",
   "name": "python3"
  },
  "language_info": {
   "codemirror_mode": {
    "name": "ipython",
    "version": 3
   },
   "file_extension": ".py",
   "mimetype": "text/x-python",
   "name": "python",
   "nbconvert_exporter": "python",
   "pygments_lexer": "ipython3",
   "version": "3.10.8"
  },
  "toc": {
   "base_numbering": 1,
   "nav_menu": {},
   "number_sections": true,
   "sideBar": true,
   "skip_h1_title": false,
   "title_cell": "Table of Contents",
   "title_sidebar": "Contents",
   "toc_cell": false,
   "toc_position": {},
   "toc_section_display": true,
   "toc_window_display": false
  },
  "varInspector": {
   "cols": {
    "lenName": 16,
    "lenType": 16,
    "lenVar": 40
   },
   "kernels_config": {
    "python": {
     "delete_cmd_postfix": "",
     "delete_cmd_prefix": "del ",
     "library": "var_list.py",
     "varRefreshCmd": "print(var_dic_list())"
    },
    "r": {
     "delete_cmd_postfix": ") ",
     "delete_cmd_prefix": "rm(",
     "library": "var_list.r",
     "varRefreshCmd": "cat(var_dic_list()) "
    }
   },
   "types_to_exclude": [
    "module",
    "function",
    "builtin_function_or_method",
    "instance",
    "_Feature"
   ],
   "window_display": false
  },
  "vscode": {
   "interpreter": {
    "hash": "31f2aee4e71d21fbe5cf8b01ff0e069b9275f58929596ceb00d14d90e3e16cd6"
   }
  }
 },
 "nbformat": 4,
 "nbformat_minor": 5
}
