{
 "cells": [
  {
   "cell_type": "markdown",
   "id": "123456",
   "metadata": {},
   "source": [
    "<div style=\"text-align:left;font-size:2em\"><span style=\"font-weight:bolder;font-size:1.25em\">SP2273 | Learning Portfolio</span><br><br><span style=\"font-weight:bold;color:darkred\">Files, Folders and OS (Need)</span></div>"
   ]
  },
  {
   "cell_type": "markdown",
   "id": "9246e0c4",
   "metadata": {},
   "source": [
    "## 1 Important concepts"
   ]
  },
  {
   "cell_type": "markdown",
   "id": "edf200ea",
   "metadata": {},
   "source": [
    "### 1.1 Path"
   ]
  },
  {
   "cell_type": "code",
   "execution_count": 1,
   "id": "145c10ba",
   "metadata": {},
   "outputs": [],
   "source": [
    "#location of the file\n",
    "#can be relative or absolute#\n",
    "#C:\\\\Users\\Chammika\\Desktop\\data-01.txt is an absolute path"
   ]
  },
  {
   "cell_type": "markdown",
   "id": "638495cc",
   "metadata": {},
   "source": [
    "### 1.2 More about relative paths"
   ]
  },
  {
   "cell_type": "code",
   "execution_count": null,
   "id": "f42e55d7",
   "metadata": {},
   "outputs": [],
   "source": [
    "#.\\data-files\\data-01.txt means the file data-01.txt in the folder data-files in the current folder.\n",
    "#..\\data-files\\data-01.txt means the file data-01.txt in the folder data-files located in the folder above.\n",
    "# ~/refer to home directory in Mac OS X or Linux, example\"~/Desktop\""
   ]
  },
  {
   "cell_type": "markdown",
   "id": "37407996",
   "metadata": {},
   "source": [
    "### 1.3 Path separator"
   ]
  },
  {
   "cell_type": "code",
   "execution_count": null,
   "id": "0627095b",
   "metadata": {},
   "outputs": [],
   "source": [
    "#\"\\\"for windows, \"/\"for Mac OS X or Linux\n",
    "#C:\\\\Users\\chammika\\Desktop\\data-01.txt\n",
    "#/Users/chammika/Desktop/data-01.txt\n"
   ]
  },
  {
   "cell_type": "markdown",
   "id": "3e787136",
   "metadata": {},
   "source": [
    "### Text files vs Binary files"
   ]
  },
  {
   "cell_type": "markdown",
   "id": "a7c80993",
   "metadata": {},
   "source": [
    "### Text files\n",
    "- simple but bulky\n",
    "- content can be examined by almost any software\n",
    "- example format: `.txt`, `.md`\n",
    "### Binary files\n",
    "- requires some processing\n",
    "- example1: `.png` file raw data looks like giberrish\n",
    "- example2: `Excel.app` on Mac will not run on Windows;`Excel.exe` will not run on Mac or Linux\n",
    "- better for speed and size"
   ]
  },
  {
   "cell_type": "markdown",
   "id": "b34775cb",
   "metadata": {},
   "source": [
    "### Extentions"
   ]
  },
  {
   "cell_type": "code",
   "execution_count": null,
   "id": "53bbf336",
   "metadata": {},
   "outputs": [],
   "source": [
    "# extension separated by name with a \".\": name.extension\n",
    "# extension is kinda like file type: \".xlsx\", \".pptx\", \".txt\""
   ]
  },
  {
   "cell_type": "markdown",
   "id": "1993dc46",
   "metadata": {},
   "source": [
    "### 1.4 Opening and closing files"
   ]
  },
  {
   "cell_type": "markdown",
   "id": "379b92fa",
   "metadata": {},
   "source": [
    "#### Reading data"
   ]
  },
  {
   "cell_type": "markdown",
   "id": "d9c2fbd4",
   "metadata": {},
   "source": [
    "``` python\n",
    "with open('spectrum-01.txt', 'r') as file:\n",
    "     file_content = file.read()\n",
    "\n",
    "print(file_content)\n"
   ]
  },
  {
   "cell_type": "markdown",
   "id": "3ebaf113",
   "metadata": {},
   "source": [
    "`open()`: function opens a ‘stream’ into file </br>\n",
    "`r`: specifies to only `r`ead from the file </br>\n",
    "`with`: automatically close the file stream after you are done."
   ]
  },
  {
   "cell_type": "markdown",
   "id": "8ff67637",
   "metadata": {},
   "source": [
    "#### Writing data"
   ]
  },
  {
   "cell_type": "code",
   "execution_count": 5,
   "id": "5a7afcc3",
   "metadata": {},
   "outputs": [],
   "source": [
    "text = 'Far out in the uncharted backwaters of the unfashionable end of the western spiral arm of the Galaxy lies a small unregarded yellow sun.\\nOrbiting this at a distance of roughly ninety-two million miles is an utterly insignificant little blue green planet whose ape-descended life forms are so amazingly primitive that they still think digital watches are a pretty neat idea.'\n",
    "with open('my-text-once.txt', 'w') as file: # 'w' -writing\n",
    "    file.write(text)"
   ]
  },
  {
   "cell_type": "code",
   "execution_count": 6,
   "id": "c55658fe",
   "metadata": {},
   "outputs": [],
   "source": [
    "with open('my-text-lines.txt', 'w') as file:\n",
    "    for line in text.splitlines(): #looping is slower than writing all at once\n",
    "        file.writelines(line)"
   ]
  },
  {
   "cell_type": "markdown",
   "id": "655f92f0",
   "metadata": {},
   "source": [
    "## 2 Playing with the OS"
   ]
  },
  {
   "cell_type": "markdown",
   "id": "98103c92",
   "metadata": {},
   "source": [
    "### 2.1 Some packages"
   ]
  },
  {
   "cell_type": "markdown",
   "id": "9cc0c023",
   "metadata": {},
   "source": [
    "|Package|Mainly used for|\n",
    "|:---|:---|\n",
    "|[os](https://docs.python.org/3/library/os.html)|create, modify, delete folders, write OS-agnostic code|\n",
    "|[glob](https://docs.python.org/3/library/glob.html)|search for file|\n",
    "|[shutil](https://docs.python.org/3/library/shutil.html)|copy files|"
   ]
  },
  {
   "cell_type": "code",
   "execution_count": 2,
   "id": "4c878b45",
   "metadata": {},
   "outputs": [],
   "source": [
    "import os\n",
    "import glob\n",
    "import shutil"
   ]
  },
  {
   "cell_type": "markdown",
   "id": "d805366c",
   "metadata": {},
   "source": [
    "### 2.2 OS safe paths"
   ]
  },
  {
   "cell_type": "code",
   "execution_count": 8,
   "id": "60d0b161",
   "metadata": {},
   "outputs": [
    {
     "name": "stdout",
     "output_type": "stream",
     "text": [
      ".\\all-data\\sg-data\\data-01.txt\n"
     ]
    }
   ],
   "source": [
    "path = os.path.join('.', 'all-data', 'sg-data', 'data-01.txt')\n",
    "print(path)\n"
   ]
  },
  {
   "cell_type": "markdown",
   "id": "86b8728c",
   "metadata": {},
   "source": [
    "### 2.3 Creating folders"
   ]
  },
  {
   "cell_type": "code",
   "execution_count": 9,
   "id": "23afc62c",
   "metadata": {},
   "outputs": [
    {
     "name": "stdout",
     "output_type": "stream",
     "text": [
      "Creating people\\Jonh\n",
      "Creating people\\Paul\n",
      "Creating people\\Ringo\n"
     ]
    }
   ],
   "source": [
    "os.mkdir('people')\n",
    "\n",
    "for person in ['Jonh', 'Paul', 'Ringo']:\n",
    "    path = os.path.join('people', person)\n",
    "    print(f'Creating {path}') #only for visual purpose\n",
    "    os.mkdir(path)\n"
   ]
  },
  {
   "cell_type": "markdown",
   "id": "b059380b",
   "metadata": {},
   "source": [
    "### 2.4 Checking for existence"
   ]
  },
  {
   "cell_type": "code",
   "execution_count": 11,
   "id": "19f5ac93",
   "metadata": {},
   "outputs": [
    {
     "name": "stdout",
     "output_type": "stream",
     "text": [
      "people\\Jonh already exists; skipping creation.\n",
      "people\\Paul already exists; skipping creation.\n",
      "people\\Ringo already exists; skipping creation.\n",
      "Creating people\\Kellie\n"
     ]
    }
   ],
   "source": [
    "for person in ['Jonh', 'Paul', 'Ringo', 'Kellie']:\n",
    "    path = os.path.join('people', person)\n",
    "    try:\n",
    "        os.mkdir(path)\n",
    "        print(f'Creating {path}')\n",
    "    except FileExistsError:\n",
    "        print(f'{path} already exists; skipping creation.')\n"
   ]
  },
  {
   "cell_type": "code",
   "execution_count": 13,
   "id": "6522ce16",
   "metadata": {},
   "outputs": [
    {
     "name": "stdout",
     "output_type": "stream",
     "text": [
      "people\\Jonh already exists; skipping creation.\n",
      "people\\Paul already exists; skipping creation.\n",
      "people\\Ringo already exists; skipping creation.\n",
      "Creating people\\Ichigo\n"
     ]
    }
   ],
   "source": [
    "for person in ['Jonh', 'Paul', 'Ringo', 'Ichigo']:\n",
    "    path = os.path.join('people', person)\n",
    "    if os.path.exists(path):\n",
    "        print(f'{path} already exists; skipping creation.')\n",
    "    else:\n",
    "        os.mkdir(path)\n",
    "        print(f'Creating {path}')"
   ]
  },
  {
   "cell_type": "markdown",
   "id": "a4e91491",
   "metadata": {},
   "source": [
    "### 2.5 Copying files"
   ]
  },
  {
   "cell_type": "code",
   "execution_count": 15,
   "id": "c963a741",
   "metadata": {},
   "outputs": [],
   "source": [
    "for person in ['Jonh', 'Paul', 'Ringo']:\n",
    "    path_to_destination = os.path.join('people', person)\n",
    "    shutil.copy('sp2273_logo.png', path_to_destination)\n",
    "    print(f'Copied file to {path_to_destination}')\n"
   ]
  },
  {
   "cell_type": "code",
   "execution_count": 16,
   "id": "8058ada9",
   "metadata": {},
   "outputs": [
    {
     "name": "stdout",
     "output_type": "stream",
     "text": [
      "Moved logo to people\\Jonh\\imgs\\sp2273_logo.png\n",
      "Moved logo to people\\Paul\\imgs\\sp2273_logo.png\n",
      "Moved logo to people\\Ringo\\imgs\\sp2273_logo.png\n"
     ]
    }
   ],
   "source": [
    "for person in ['Jonh', 'Paul', 'Ringo']:\n",
    "    # Create folder 'imgs'\n",
    "    path_to_imgs = os.path.join('people', person, 'imgs')\n",
    "    if not os.path.exists(path_to_imgs):\n",
    "        os.mkdir(path_to_imgs)\n",
    "\n",
    "    # Move logo file\n",
    "    current_path_of_logo = os.path.join('people', person, 'sp2273_logo.png')\n",
    "    new_path_of_logo = os.path.join('people', person, 'imgs', 'sp2273_logo.png')\n",
    "\n",
    "    shutil.move(current_path_of_logo, new_path_of_logo)\n",
    "    print(f'Moved logo to {new_path_of_logo}')"
   ]
  },
  {
   "cell_type": "markdown",
   "id": "95e13b54",
   "metadata": {},
   "source": [
    "### 2.6 Listing files"
   ]
  },
  {
   "cell_type": "code",
   "execution_count": 17,
   "id": "c75c1712",
   "metadata": {},
   "outputs": [
    {
     "data": {
      "text/plain": [
       "['files,_folders_and_os_(need).ipynb',\n",
       " 'my-text-lines.txt',\n",
       " 'my-text-once.txt',\n",
       " 'people',\n",
       " 'sp2273_logo.png']"
      ]
     },
     "execution_count": 17,
     "metadata": {},
     "output_type": "execute_result"
    }
   ],
   "source": [
    "glob.glob('*') # example webofscience search\n"
   ]
  },
  {
   "cell_type": "code",
   "execution_count": 18,
   "id": "77b983b5",
   "metadata": {},
   "outputs": [
    {
     "data": {
      "text/plain": [
       "['people']"
      ]
     },
     "execution_count": 18,
     "metadata": {},
     "output_type": "execute_result"
    }
   ],
   "source": [
    "glob.glob('peo*')"
   ]
  },
  {
   "cell_type": "code",
   "execution_count": 19,
   "id": "ed376980",
   "metadata": {},
   "outputs": [
    {
     "data": {
      "text/plain": [
       "['people\\\\Ichigo',\n",
       " 'people\\\\Jonh',\n",
       " 'people\\\\Kellie',\n",
       " 'people\\\\Paul',\n",
       " 'people\\\\Ringo']"
      ]
     },
     "execution_count": 19,
     "metadata": {},
     "output_type": "execute_result"
    }
   ],
   "source": [
    "glob.glob('peo*/*')"
   ]
  },
  {
   "cell_type": "code",
   "execution_count": 20,
   "id": "18f89961",
   "metadata": {},
   "outputs": [
    {
     "data": {
      "text/plain": [
       "['people\\\\',\n",
       " 'people\\\\Ichigo',\n",
       " 'people\\\\Jonh',\n",
       " 'people\\\\Jonh\\\\imgs',\n",
       " 'people\\\\Jonh\\\\imgs\\\\sp2273_logo.png',\n",
       " 'people\\\\Kellie',\n",
       " 'people\\\\Paul',\n",
       " 'people\\\\Paul\\\\imgs',\n",
       " 'people\\\\Paul\\\\imgs\\\\sp2273_logo.png',\n",
       " 'people\\\\Ringo',\n",
       " 'people\\\\Ringo\\\\imgs',\n",
       " 'people\\\\Ringo\\\\imgs\\\\sp2273_logo.png']"
      ]
     },
     "execution_count": 20,
     "metadata": {},
     "output_type": "execute_result"
    }
   ],
   "source": [
    "glob.glob('people/**', recursive=True) # 2 ** doesn't specify the level"
   ]
  },
  {
   "cell_type": "code",
   "execution_count": 22,
   "id": "f772eb85",
   "metadata": {},
   "outputs": [
    {
     "data": {
      "text/plain": [
       "['people\\\\Jonh\\\\imgs\\\\sp2273_logo.png',\n",
       " 'people\\\\Paul\\\\imgs\\\\sp2273_logo.png',\n",
       " 'people\\\\Ringo\\\\imgs\\\\sp2273_logo.png']"
      ]
     },
     "execution_count": 22,
     "metadata": {},
     "output_type": "execute_result"
    }
   ],
   "source": [
    " glob.glob('people/**/*.png', recursive=True) # specifies need to be in in people and type is .png"
   ]
  },
  {
   "cell_type": "markdown",
   "id": "81f9d92f",
   "metadata": {},
   "source": [
    "### 2.7 Moving about"
   ]
  },
  {
   "cell_type": "code",
   "execution_count": 25,
   "id": "e73e3234",
   "metadata": {},
   "outputs": [
    {
     "data": {
      "text/plain": [
       "'C:\\\\Users\\\\jingt_41vra31\\\\OneDrive\\\\Desktop\\\\learning-portfolio-jingten-c\\\\files, folders and os\\\\people\\\\Ringo'"
      ]
     },
     "execution_count": 25,
     "metadata": {},
     "output_type": "execute_result"
    }
   ],
   "source": [
    "os.getcwd() # getcwd(current working directory)\n"
   ]
  },
  {
   "cell_type": "code",
   "execution_count": 41,
   "id": "656d7d97",
   "metadata": {},
   "outputs": [],
   "source": [
    "os.chdir('people/Ringo') # ch(ange)dir(ectory)"
   ]
  },
  {
   "cell_type": "markdown",
   "id": "b90d5389",
   "metadata": {},
   "source": [
    "### 2.8 Extracting Info"
   ]
  },
  {
   "cell_type": "code",
   "execution_count": 26,
   "id": "adfae247",
   "metadata": {},
   "outputs": [
    {
     "name": "stdout",
     "output_type": "stream",
     "text": [
      "people/Ringo/imgs/sp2273_logo.png png\n"
     ]
    }
   ],
   "source": [
    "path = 'people/Ringo/imgs/sp2273_logo.png'\n",
    "filename = path.split(os.path.sep)[-1] #(path separator \\), split at \\ and picked last element\n",
    "extension = filename.split('.')[-1]\n",
    "print(filename, extension)\n"
   ]
  },
  {
   "cell_type": "code",
   "execution_count": 27,
   "id": "92b8c997",
   "metadata": {},
   "outputs": [
    {
     "data": {
      "text/plain": [
       "('people/Ringo/imgs', 'sp2273_logo.png')"
      ]
     },
     "execution_count": 27,
     "metadata": {},
     "output_type": "execute_result"
    }
   ],
   "source": [
    "path = 'people/Ringo/imgs/sp2273_logo.png'\n",
    "os.path.split(path)      # Split filename from the rest"
   ]
  },
  {
   "cell_type": "code",
   "execution_count": 28,
   "id": "af79b79d",
   "metadata": {},
   "outputs": [
    {
     "data": {
      "text/plain": [
       "('people/Ringo/imgs/sp2273_logo', '.png')"
      ]
     },
     "execution_count": 28,
     "metadata": {},
     "output_type": "execute_result"
    }
   ],
   "source": [
    "os.path.splitext(path)   # Split extension"
   ]
  },
  {
   "cell_type": "code",
   "execution_count": 29,
   "id": "9da771e2",
   "metadata": {},
   "outputs": [
    {
     "data": {
      "text/plain": [
       "'people/Ringo/imgs'"
      ]
     },
     "execution_count": 29,
     "metadata": {},
     "output_type": "execute_result"
    }
   ],
   "source": [
    "os.path.dirname(path)    # Show the directory"
   ]
  },
  {
   "cell_type": "markdown",
   "id": "817fdf7a",
   "metadata": {},
   "source": [
    "### 2.9 Deleting stuff"
   ]
  },
  {
   "cell_type": "code",
   "execution_count": null,
   "id": "4a83796d",
   "metadata": {},
   "outputs": [],
   "source": [
    "os.remove('people/Ringo/imgs/sp2273_logo.png') #for files\n",
    "os.rmdir('people/Ringo') #for empty directory\n",
    "shutil.rmtree('people/Ringo') #for directory with files"
   ]
  },
  {
   "cell_type": "markdown",
   "id": "5ef3e20e",
   "metadata": {},
   "source": [
    "## Exercise 7 :  The OS is my oyster"
   ]
  },
  {
   "cell_type": "code",
   "execution_count": 48,
   "id": "f7926956",
   "metadata": {},
   "outputs": [
    {
     "data": {
      "text/plain": [
       "'C:\\\\Users\\\\jingt_41vra31\\\\OneDrive\\\\Desktop\\\\learning-portfolio-jingten-c\\\\files, folders and os'"
      ]
     },
     "execution_count": 48,
     "metadata": {},
     "output_type": "execute_result"
    }
   ],
   "source": [
    "os.getcwd()"
   ]
  },
  {
   "cell_type": "code",
   "execution_count": 47,
   "id": "0e5ec743",
   "metadata": {},
   "outputs": [],
   "source": [
    "os.chdir('../')"
   ]
  },
  {
   "cell_type": "code",
   "execution_count": 49,
   "id": "c4f84e13",
   "metadata": {},
   "outputs": [],
   "source": [
    "os.mkdir(\"python_today\")"
   ]
  },
  {
   "cell_type": "code",
   "execution_count": 50,
   "id": "e9119767",
   "metadata": {},
   "outputs": [],
   "source": [
    "os.chdir('python_today')"
   ]
  },
  {
   "cell_type": "code",
   "execution_count": 51,
   "id": "dfadd2fe",
   "metadata": {},
   "outputs": [
    {
     "data": {
      "text/plain": [
       "'C:\\\\Users\\\\jingt_41vra31\\\\OneDrive\\\\Desktop\\\\learning-portfolio-jingten-c\\\\files, folders and os\\\\python_today'"
      ]
     },
     "execution_count": 51,
     "metadata": {},
     "output_type": "execute_result"
    }
   ],
   "source": [
    "os.getcwd()"
   ]
  },
  {
   "cell_type": "code",
   "execution_count": 54,
   "id": "19cc86d5",
   "metadata": {},
   "outputs": [],
   "source": [
    "for i in range(1, 50):\n",
    "    filename = f'new_directory_{i:02}'\n",
    "    os.mkdir(filename)"
   ]
  },
  {
   "cell_type": "code",
   "execution_count": 55,
   "id": "36bbfd31",
   "metadata": {},
   "outputs": [],
   "source": [
    "for i in range(1, 50, 2):\n",
    "    odd_name = f'new_directory_{i:02}'\n",
    "    os.rmdir(odd_name)"
   ]
  },
  {
   "cell_type": "code",
   "execution_count": 56,
   "id": "a7ba72ba",
   "metadata": {},
   "outputs": [
    {
     "data": {
      "text/plain": [
       "['new_directory_02',\n",
       " 'new_directory_04',\n",
       " 'new_directory_06',\n",
       " 'new_directory_08',\n",
       " 'new_directory_10',\n",
       " 'new_directory_12',\n",
       " 'new_directory_14',\n",
       " 'new_directory_16',\n",
       " 'new_directory_18',\n",
       " 'new_directory_20',\n",
       " 'new_directory_22',\n",
       " 'new_directory_24',\n",
       " 'new_directory_26',\n",
       " 'new_directory_28',\n",
       " 'new_directory_30',\n",
       " 'new_directory_32',\n",
       " 'new_directory_34',\n",
       " 'new_directory_36',\n",
       " 'new_directory_38',\n",
       " 'new_directory_40',\n",
       " 'new_directory_42',\n",
       " 'new_directory_44',\n",
       " 'new_directory_46',\n",
       " 'new_directory_48']"
      ]
     },
     "execution_count": 56,
     "metadata": {},
     "output_type": "execute_result"
    }
   ],
   "source": [
    "os.listdir()"
   ]
  },
  {
   "cell_type": "code",
   "execution_count": 67,
   "id": "43309d8a",
   "metadata": {},
   "outputs": [],
   "source": [
    "for i in range (0, 50, 5):\n",
    "    origfiles = f'new_directory_{i:02}'\n",
    "    hahafiles = f'haha_{i:02}'\n",
    "    if os.path.exists(origfiles):\n",
    "        os.rename(origfiles, hahafiles)"
   ]
  },
  {
   "cell_type": "code",
   "execution_count": 68,
   "id": "0f77e5df",
   "metadata": {},
   "outputs": [
    {
     "data": {
      "text/plain": [
       "['haha_10',\n",
       " 'haha_20',\n",
       " 'haha_30',\n",
       " 'haha_40',\n",
       " 'new_directory_02',\n",
       " 'new_directory_04',\n",
       " 'new_directory_06',\n",
       " 'new_directory_08',\n",
       " 'new_directory_12',\n",
       " 'new_directory_14',\n",
       " 'new_directory_16',\n",
       " 'new_directory_18',\n",
       " 'new_directory_22',\n",
       " 'new_directory_24',\n",
       " 'new_directory_26',\n",
       " 'new_directory_28',\n",
       " 'new_directory_32',\n",
       " 'new_directory_34',\n",
       " 'new_directory_36',\n",
       " 'new_directory_38',\n",
       " 'new_directory_42',\n",
       " 'new_directory_44',\n",
       " 'new_directory_46',\n",
       " 'new_directory_48']"
      ]
     },
     "execution_count": 68,
     "metadata": {},
     "output_type": "execute_result"
    }
   ],
   "source": [
    "os.listdir()"
   ]
  },
  {
   "cell_type": "code",
   "execution_count": 5,
   "id": "66b183bd",
   "metadata": {},
   "outputs": [],
   "source": [
    "for hahafiles in glob.glob('python_today/haha*'):\n",
    "    shutil.copy('sp2273_logo.png', hahafiles)"
   ]
  },
  {
   "cell_type": "code",
   "execution_count": 14,
   "id": "1b9ee132",
   "metadata": {},
   "outputs": [
    {
     "data": {
      "text/plain": [
       "['sp2273_logo.png']"
      ]
     },
     "execution_count": 14,
     "metadata": {},
     "output_type": "execute_result"
    }
   ],
   "source": [
    "os.listdir('haha_10')"
   ]
  },
  {
   "cell_type": "markdown",
   "id": "59bc5c00",
   "metadata": {},
   "source": [
    "## Exercise 8 :  Tidying a collaboration"
   ]
  },
  {
   "cell_type": "code",
   "execution_count": 6,
   "id": "6e7a3293",
   "metadata": {},
   "outputs": [
    {
     "data": {
      "text/plain": [
       "'05-10-singapore.txt'"
      ]
     },
     "execution_count": 6,
     "metadata": {},
     "output_type": "execute_result"
    }
   ],
   "source": [
    "nmonth = {\n",
    "'jan': '01', 'feb': '02', 'mar': '03',\n",
    "'apr': '04', 'may': '05', 'jun': '06',\n",
    "'jul': '07', 'aug': '08', 'sep': '09',\n",
    "'oct': '10', 'nov': '11', 'dec': '12'\n",
    "}\n",
    "#nmonth = ['jan','feb', 'mar', 'apr', '']\n",
    "\n",
    "def rename_my_file(old_file_name):\n",
    "    for key in nmonth.keys():\n",
    "        if old_file_name[0: 3] == key:\n",
    "            return nmonth[key]+old_file_name[3:]\n",
    "    \n",
    "    \n",
    "rename_my_file('may-10-singapore.txt')\n"
   ]
  },
  {
   "cell_type": "code",
   "execution_count": 7,
   "id": "b6a06a20",
   "metadata": {},
   "outputs": [
    {
     "data": {
      "text/plain": [
       "['10-08_singapore.txt',\n",
       " '07-10_cairo.txt',\n",
       " '05-15_dhaka.txt',\n",
       " '05-13_cairo.txt',\n",
       " '10-21_cairo.txt',\n",
       " '01-10_singapore.txt',\n",
       " '06-20_tokyo.txt',\n",
       " '08-06_jakarta.txt',\n",
       " '12-21_karachi.txt',\n",
       " '01-01_tokyo.txt']"
      ]
     },
     "execution_count": 7,
     "metadata": {},
     "output_type": "execute_result"
    }
   ],
   "source": [
    "file3 = ['oct-08_singapore.txt', 'jul-10_cairo.txt', 'may-15_dhaka.txt',\n",
    " 'may-13_cairo.txt', 'oct-21_cairo.txt', 'jan-10_singapore.txt',\n",
    " 'jun-20_tokyo.txt', 'aug-06_jakarta.txt', 'dec-21_karachi.txt',\n",
    " 'jan-01_tokyo.txt']\n",
    "nfile3 = []\n",
    "\n",
    "for files3 in file3:\n",
    "    nfile3.append(rename_my_file(files3))\n",
    "\n",
    "nfile3"
   ]
  },
  {
   "cell_type": "code",
   "execution_count": 9,
   "id": "185243e8",
   "metadata": {},
   "outputs": [],
   "source": [
    "os.chdir('os-collaboration-exercise-data')"
   ]
  },
  {
   "cell_type": "code",
   "execution_count": 11,
   "id": "b67fdc84",
   "metadata": {},
   "outputs": [],
   "source": [
    "for oldfiles in glob.glob('*.txt'):\n",
    "    for key in nmonth.keys():\n",
    "        if oldfiles[0: 3] == key:\n",
    "            os.rename(oldfiles, rename_my_file(oldfiles))\n",
    "        else: continue\n"
   ]
  },
  {
   "cell_type": "code",
   "execution_count": 12,
   "id": "34fb0e8f",
   "metadata": {},
   "outputs": [
    {
     "data": {
      "text/plain": [
       "['01-01_manila.txt',\n",
       " '01-01_osaka.txt',\n",
       " '01-02_cairo.txt',\n",
       " '01-02_karachi.txt',\n",
       " '01-02_manila.txt',\n",
       " '01-03_cairo.txt',\n",
       " '01-03_jakarta.txt',\n",
       " '01-03_karachi.txt',\n",
       " '01-03_shanghai.txt',\n",
       " '01-04_cairo.txt',\n",
       " '01-04_jakarta.txt',\n",
       " '01-04_karachi.txt',\n",
       " '01-04_manila.txt',\n",
       " '01-05_cairo.txt',\n",
       " '01-05_melbourne.txt',\n",
       " '01-05_osaka.txt',\n",
       " '01-06_jakarta.txt',\n",
       " '01-06_karachi.txt',\n",
       " '01-06_melbourne.txt',\n",
       " '01-07_cairo.txt',\n",
       " '01-08_cairo.txt',\n",
       " '01-08_manila.txt',\n",
       " '01-08_osaka.txt',\n",
       " '01-08_tokyo.txt',\n",
       " '01-09_cairo.txt',\n",
       " '01-09_karachi.txt',\n",
       " '01-09_manila.txt',\n",
       " '01-09_melbourne.txt',\n",
       " '01-10_jakarta.txt',\n",
       " '01-10_karachi.txt',\n",
       " '01-10_shanghai.txt',\n",
       " '01-11_cairo.txt',\n",
       " '01-11_manila.txt',\n",
       " '01-11_melbourne.txt',\n",
       " '01-12_cairo.txt',\n",
       " '01-12_jakarta.txt',\n",
       " '01-12_karachi.txt',\n",
       " '01-12_melbourne.txt',\n",
       " '01-12_osaka.txt',\n",
       " '01-12_tokyo.txt',\n",
       " '01-13_cairo.txt',\n",
       " '01-13_jakarta.txt',\n",
       " '01-13_melbourne.txt',\n",
       " '01-14_karachi.txt',\n",
       " '01-14_manila.txt',\n",
       " '01-15_cairo.txt',\n",
       " '01-15_dhaka.txt',\n",
       " '01-15_manila.txt',\n",
       " '01-15_osaka.txt',\n",
       " '01-15_singapore.txt',\n",
       " '01-16_cairo.txt',\n",
       " '01-16_jakarta.txt',\n",
       " '01-16_melbourne.txt',\n",
       " '01-16_tokyo.txt',\n",
       " '01-17_karachi.txt',\n",
       " '01-18_karachi.txt',\n",
       " '01-18_manila.txt',\n",
       " '01-18_melbourne.txt',\n",
       " '01-18_osaka.txt',\n",
       " '01-19_cairo.txt',\n",
       " '01-19_jakarta.txt',\n",
       " '01-19_karachi.txt',\n",
       " '01-19_manila.txt',\n",
       " '01-19_melbourne.txt',\n",
       " '01-19_osaka.txt',\n",
       " '01-19_tokyo.txt',\n",
       " '01-20_cairo.txt',\n",
       " '01-20_karachi.txt',\n",
       " '01-20_osaka.txt',\n",
       " '01-20_tokyo.txt',\n",
       " '01-21_cairo.txt',\n",
       " '01-21_karachi.txt',\n",
       " '01-21_melbourne.txt',\n",
       " '01-22_karachi.txt',\n",
       " '01-22_melbourne.txt',\n",
       " '01-22_osaka.txt',\n",
       " '01-22_shanghai.txt',\n",
       " '01-22_tokyo.txt',\n",
       " '01-23_cairo.txt',\n",
       " '01-23_jakarta.txt',\n",
       " '01-23_manila.txt',\n",
       " '01-24_jakarta.txt',\n",
       " '01-24_karachi.txt',\n",
       " '01-24_manila.txt',\n",
       " '01-24_melbourne.txt',\n",
       " '01-24_tokyo.txt',\n",
       " '01-25_karachi.txt',\n",
       " '01-25_manila.txt',\n",
       " '01-25_melbourne.txt',\n",
       " '01-25_osaka.txt',\n",
       " '01-26_jakarta.txt',\n",
       " '01-26_karachi.txt',\n",
       " '01-26_manila.txt',\n",
       " '01-26_shanghai.txt',\n",
       " '01-27_cairo.txt',\n",
       " '01-27_melbourne.txt',\n",
       " '01-27_osaka.txt',\n",
       " '01-28_karachi.txt',\n",
       " '01-29_melbourne.txt',\n",
       " '01-29_shanghai.txt',\n",
       " '01-30_cairo.txt',\n",
       " '01-30_jakarta.txt',\n",
       " '01-30_karachi.txt',\n",
       " '01-30_manila.txt',\n",
       " '02-01_dhaka.txt',\n",
       " '02-01_manila.txt',\n",
       " '02-01_osaka.txt',\n",
       " '02-01_shanghai.txt',\n",
       " '02-01_singapore.txt',\n",
       " '02-02_jakarta.txt',\n",
       " '02-02_osaka.txt',\n",
       " '02-02_singapore.txt',\n",
       " '02-03_manila.txt',\n",
       " '02-03_osaka.txt',\n",
       " '02-03_singapore.txt',\n",
       " '02-03_tokyo.txt',\n",
       " '02-04_dhaka.txt',\n",
       " '02-04_jakarta.txt',\n",
       " '02-04_manila.txt',\n",
       " '02-04_osaka.txt',\n",
       " '02-04_singapore.txt',\n",
       " '02-04_tokyo.txt',\n",
       " '02-05_manila.txt',\n",
       " '02-05_shanghai.txt',\n",
       " '02-05_singapore.txt',\n",
       " '02-05_tokyo.txt',\n",
       " '02-06_jakarta.txt',\n",
       " '02-06_karachi.txt',\n",
       " '02-06_manila.txt',\n",
       " '02-06_osaka.txt',\n",
       " '02-06_tokyo.txt',\n",
       " '02-07_manila.txt',\n",
       " '02-07_osaka.txt',\n",
       " '02-07_tokyo.txt',\n",
       " '02-08_dhaka.txt',\n",
       " '02-08_karachi.txt',\n",
       " '02-08_manila.txt',\n",
       " '02-08_singapore.txt',\n",
       " '02-09_jakarta.txt',\n",
       " '02-09_manila.txt',\n",
       " '02-09_osaka.txt',\n",
       " '02-09_tokyo.txt',\n",
       " '02-10_cairo.txt',\n",
       " '02-10_jakarta.txt',\n",
       " '02-10_manila.txt',\n",
       " '02-10_osaka.txt',\n",
       " '02-11_osaka.txt',\n",
       " '02-11_shanghai.txt',\n",
       " '02-12_dhaka.txt',\n",
       " '02-12_manila.txt',\n",
       " '02-12_shanghai.txt',\n",
       " '02-12_singapore.txt',\n",
       " '02-12_tokyo.txt',\n",
       " '02-13_manila.txt',\n",
       " '02-13_melbourne.txt',\n",
       " '02-13_shanghai.txt',\n",
       " '02-13_singapore.txt',\n",
       " '02-13_tokyo.txt',\n",
       " '02-14_dhaka.txt',\n",
       " '02-14_jakarta.txt',\n",
       " '02-14_osaka.txt',\n",
       " '02-14_singapore.txt',\n",
       " '02-14_tokyo.txt',\n",
       " '02-15_jakarta.txt',\n",
       " '02-15_manila.txt',\n",
       " '02-15_shanghai.txt',\n",
       " '02-15_singapore.txt',\n",
       " '02-16_melbourne.txt',\n",
       " '02-16_osaka.txt',\n",
       " '02-16_shanghai.txt',\n",
       " '02-16_tokyo.txt',\n",
       " '02-17_cairo.txt',\n",
       " '02-17_karachi.txt',\n",
       " '02-17_shanghai.txt',\n",
       " '02-17_singapore.txt',\n",
       " '02-18_manila.txt',\n",
       " '02-18_shanghai.txt',\n",
       " '02-19_osaka.txt',\n",
       " '02-19_singapore.txt',\n",
       " '02-19_tokyo.txt',\n",
       " '02-20_cairo.txt',\n",
       " '02-20_dhaka.txt',\n",
       " '02-20_jakarta.txt',\n",
       " '02-20_osaka.txt',\n",
       " '02-20_singapore.txt',\n",
       " '02-20_tokyo.txt',\n",
       " '02-21_jakarta.txt',\n",
       " '02-21_manila.txt',\n",
       " '02-21_osaka.txt',\n",
       " '02-21_tokyo.txt',\n",
       " '02-22_cairo.txt',\n",
       " '02-22_dhaka.txt',\n",
       " '02-22_manila.txt',\n",
       " '02-22_tokyo.txt',\n",
       " '02-23_manila.txt',\n",
       " '02-23_shanghai.txt',\n",
       " '02-23_singapore.txt',\n",
       " '02-24_manila.txt',\n",
       " '02-24_osaka.txt',\n",
       " '02-24_singapore.txt',\n",
       " '02-24_tokyo.txt',\n",
       " '02-25_cairo.txt',\n",
       " '02-26_cairo.txt',\n",
       " '02-26_jakarta.txt',\n",
       " '02-26_manila.txt',\n",
       " '02-26_osaka.txt',\n",
       " '02-27_jakarta.txt',\n",
       " '02-27_manila.txt',\n",
       " '02-27_osaka.txt',\n",
       " '02-27_singapore.txt',\n",
       " '02-27_tokyo.txt',\n",
       " '03-02_manila.txt',\n",
       " '03-04_jakarta.txt',\n",
       " '03-04_osaka.txt',\n",
       " '03-04_tokyo.txt',\n",
       " '03-05_cairo.txt',\n",
       " '03-05_singapore.txt',\n",
       " '03-05_tokyo.txt',\n",
       " '03-06_cairo.txt',\n",
       " '03-06_karachi.txt',\n",
       " '03-07_melbourne.txt',\n",
       " '03-08_manila.txt',\n",
       " '03-08_osaka.txt',\n",
       " '03-09_jakarta.txt',\n",
       " '03-09_manila.txt',\n",
       " '03-09_tokyo.txt',\n",
       " '03-10_manila.txt',\n",
       " '03-10_osaka.txt',\n",
       " '03-11_jakarta.txt',\n",
       " '03-11_osaka.txt',\n",
       " '03-12_cairo.txt',\n",
       " '03-12_manila.txt',\n",
       " '03-12_osaka.txt',\n",
       " '03-13_manila.txt',\n",
       " '03-14_cairo.txt',\n",
       " '03-14_shanghai.txt',\n",
       " '03-14_tokyo.txt',\n",
       " '03-15_jakarta.txt',\n",
       " '03-15_tokyo.txt',\n",
       " '03-16_dhaka.txt',\n",
       " '03-16_manila.txt',\n",
       " '03-16_shanghai.txt',\n",
       " '03-16_tokyo.txt',\n",
       " '03-17_jakarta.txt',\n",
       " '03-17_manila.txt',\n",
       " '03-18_jakarta.txt',\n",
       " '03-18_manila.txt',\n",
       " '03-18_tokyo.txt',\n",
       " '03-19_cairo.txt',\n",
       " '03-19_osaka.txt',\n",
       " '03-20_jakarta.txt',\n",
       " '03-20_manila.txt',\n",
       " '03-22_manila.txt',\n",
       " '03-22_osaka.txt',\n",
       " '03-23_jakarta.txt',\n",
       " '03-24_cairo.txt',\n",
       " '03-24_manila.txt',\n",
       " '03-25_jakarta.txt',\n",
       " '03-25_manila.txt',\n",
       " '03-26_manila.txt',\n",
       " '03-26_tokyo.txt',\n",
       " '03-27_osaka.txt',\n",
       " '03-27_tokyo.txt',\n",
       " '03-29_manila.txt',\n",
       " '03-30_jakarta.txt',\n",
       " '03-30_osaka.txt',\n",
       " '04-01_melbourne.txt',\n",
       " '04-01_shanghai.txt',\n",
       " '04-01_singapore.txt',\n",
       " '04-02_cairo.txt',\n",
       " '04-02_jakarta.txt',\n",
       " '04-02_karachi.txt',\n",
       " '04-02_shanghai.txt',\n",
       " '04-03_manila.txt',\n",
       " '04-03_osaka.txt',\n",
       " '04-03_singapore.txt',\n",
       " '04-03_tokyo.txt',\n",
       " '04-04_manila.txt',\n",
       " '04-04_melbourne.txt',\n",
       " '04-04_shanghai.txt',\n",
       " '04-04_singapore.txt',\n",
       " '04-05_karachi.txt',\n",
       " '04-05_melbourne.txt',\n",
       " '04-05_shanghai.txt',\n",
       " '04-05_singapore.txt',\n",
       " '04-06_cairo.txt',\n",
       " '04-06_jakarta.txt',\n",
       " '04-06_karachi.txt',\n",
       " '04-06_manila.txt',\n",
       " '04-07_cairo.txt',\n",
       " '04-07_manila.txt',\n",
       " '04-07_melbourne.txt',\n",
       " '04-07_osaka.txt',\n",
       " '04-07_singapore.txt',\n",
       " '04-07_tokyo.txt',\n",
       " '04-08_shanghai.txt',\n",
       " '04-10_cairo.txt',\n",
       " '04-10_manila.txt',\n",
       " '04-10_melbourne.txt',\n",
       " '04-10_shanghai.txt',\n",
       " '04-10_singapore.txt',\n",
       " '04-10_tokyo.txt',\n",
       " '04-11_melbourne.txt',\n",
       " '04-11_shanghai.txt',\n",
       " '04-11_tokyo.txt',\n",
       " '04-12_cairo.txt',\n",
       " '04-12_karachi.txt',\n",
       " '04-12_melbourne.txt',\n",
       " '04-12_osaka.txt',\n",
       " '04-12_shanghai.txt',\n",
       " '04-12_singapore.txt',\n",
       " '04-12_tokyo.txt',\n",
       " '04-13_cairo.txt',\n",
       " '04-13_jakarta.txt',\n",
       " '04-13_manila.txt',\n",
       " '04-13_melbourne.txt',\n",
       " '04-13_shanghai.txt',\n",
       " '04-13_singapore.txt',\n",
       " '04-14_cairo.txt',\n",
       " '04-14_manila.txt',\n",
       " '04-14_melbourne.txt',\n",
       " '04-14_osaka.txt',\n",
       " '04-14_singapore.txt',\n",
       " '04-15_cairo.txt',\n",
       " '04-15_jakarta.txt',\n",
       " '04-15_melbourne.txt',\n",
       " '04-15_singapore.txt',\n",
       " '04-15_tokyo.txt',\n",
       " '04-16_jakarta.txt',\n",
       " '04-16_karachi.txt',\n",
       " '04-16_melbourne.txt',\n",
       " '04-16_osaka.txt',\n",
       " '04-16_shanghai.txt',\n",
       " '04-17_cairo.txt',\n",
       " '04-17_manila.txt',\n",
       " '04-17_shanghai.txt',\n",
       " '04-17_tokyo.txt',\n",
       " '04-18_osaka.txt',\n",
       " '04-18_shanghai.txt',\n",
       " '04-18_tokyo.txt',\n",
       " '04-19_dhaka.txt',\n",
       " '04-19_melbourne.txt',\n",
       " '04-19_shanghai.txt',\n",
       " '04-19_singapore.txt',\n",
       " '04-20_cairo.txt',\n",
       " '04-20_dhaka.txt',\n",
       " '04-20_jakarta.txt',\n",
       " '04-20_karachi.txt',\n",
       " '04-20_tokyo.txt',\n",
       " '04-21_cairo.txt',\n",
       " '04-21_jakarta.txt',\n",
       " '04-21_manila.txt',\n",
       " '04-21_melbourne.txt',\n",
       " '04-21_osaka.txt',\n",
       " '04-21_shanghai.txt',\n",
       " '04-21_singapore.txt',\n",
       " '04-21_tokyo.txt',\n",
       " '04-22_cairo.txt',\n",
       " '04-22_manila.txt',\n",
       " '04-22_singapore.txt',\n",
       " '04-23_cairo.txt',\n",
       " '04-23_dhaka.txt',\n",
       " '04-23_jakarta.txt',\n",
       " '04-23_osaka.txt',\n",
       " '04-23_shanghai.txt',\n",
       " '04-23_singapore.txt',\n",
       " '04-23_tokyo.txt',\n",
       " '04-24_cairo.txt',\n",
       " '04-24_jakarta.txt',\n",
       " '04-24_manila.txt',\n",
       " '04-24_melbourne.txt',\n",
       " '04-24_tokyo.txt',\n",
       " '04-25_manila.txt',\n",
       " '04-25_osaka.txt',\n",
       " '04-25_singapore.txt',\n",
       " '04-26_jakarta.txt',\n",
       " '04-26_karachi.txt',\n",
       " '04-26_singapore.txt',\n",
       " '04-27_karachi.txt',\n",
       " '04-27_melbourne.txt',\n",
       " '04-27_shanghai.txt',\n",
       " '04-27_tokyo.txt',\n",
       " '04-28_jakarta.txt',\n",
       " '04-28_manila.txt',\n",
       " '04-28_tokyo.txt',\n",
       " '04-29_manila.txt',\n",
       " '04-29_melbourne.txt',\n",
       " '04-29_shanghai.txt',\n",
       " '04-29_tokyo.txt',\n",
       " '05-01_cairo.txt',\n",
       " '05-01_dhaka.txt',\n",
       " '05-01_jakarta.txt',\n",
       " '05-01_shanghai.txt',\n",
       " '05-01_singapore.txt',\n",
       " '05-01_tokyo.txt',\n",
       " '05-02_cairo.txt',\n",
       " '05-02_dhaka.txt',\n",
       " '05-02_jakarta.txt',\n",
       " '05-02_melbourne.txt',\n",
       " '05-02_osaka.txt',\n",
       " '05-02_tokyo.txt',\n",
       " '05-03_jakarta.txt',\n",
       " '05-03_karachi.txt',\n",
       " '05-03_melbourne.txt',\n",
       " '05-03_shanghai.txt',\n",
       " '05-03_tokyo.txt',\n",
       " '05-04_dhaka.txt',\n",
       " '05-04_manila.txt',\n",
       " '05-04_melbourne.txt',\n",
       " '05-04_singapore.txt',\n",
       " '05-05_dhaka.txt',\n",
       " '05-05_jakarta.txt',\n",
       " '05-05_karachi.txt',\n",
       " '05-05_manila.txt',\n",
       " '05-05_melbourne.txt',\n",
       " '05-05_tokyo.txt',\n",
       " '05-06_karachi.txt',\n",
       " '05-06_shanghai.txt',\n",
       " '05-06_singapore.txt',\n",
       " '05-07_jakarta.txt',\n",
       " '05-08_jakarta.txt',\n",
       " '05-08_melbourne.txt',\n",
       " '05-08_singapore.txt',\n",
       " '05-08_tokyo.txt',\n",
       " '05-09_manila.txt',\n",
       " '05-09_melbourne.txt',\n",
       " '05-09_singapore.txt',\n",
       " '05-10_dhaka.txt',\n",
       " '05-10_karachi.txt',\n",
       " '05-10_manila.txt',\n",
       " '05-11_dhaka.txt',\n",
       " '05-11_manila.txt',\n",
       " '05-11_melbourne.txt',\n",
       " '05-12_cairo.txt',\n",
       " '05-12_singapore.txt',\n",
       " '05-13_jakarta.txt',\n",
       " '05-13_melbourne.txt',\n",
       " '05-13_singapore.txt',\n",
       " '05-14_dhaka.txt',\n",
       " '05-14_shanghai.txt',\n",
       " '05-15_dhaka.txt',\n",
       " '05-15_jakarta.txt',\n",
       " '05-15_tokyo.txt',\n",
       " '05-16_jakarta.txt',\n",
       " '05-16_melbourne.txt',\n",
       " '05-16_singapore.txt',\n",
       " '05-16_tokyo.txt',\n",
       " '05-17_cairo.txt',\n",
       " '05-17_dhaka.txt',\n",
       " '05-17_jakarta.txt',\n",
       " '05-17_karachi.txt',\n",
       " '05-17_tokyo.txt',\n",
       " '05-18_karachi.txt',\n",
       " '05-18_shanghai.txt',\n",
       " '05-19_melbourne.txt',\n",
       " '05-20_karachi.txt',\n",
       " '05-21_dhaka.txt',\n",
       " '05-21_melbourne.txt',\n",
       " '05-22_jakarta.txt',\n",
       " '05-22_melbourne.txt',\n",
       " '05-23_karachi.txt',\n",
       " '05-23_melbourne.txt',\n",
       " '05-23_singapore.txt',\n",
       " '05-23_tokyo.txt',\n",
       " '05-24_dhaka.txt',\n",
       " '05-24_manila.txt',\n",
       " '05-24_melbourne.txt',\n",
       " '05-25_cairo.txt',\n",
       " '05-25_jakarta.txt',\n",
       " '05-26_dhaka.txt',\n",
       " '05-26_karachi.txt',\n",
       " '05-26_manila.txt',\n",
       " '05-26_melbourne.txt',\n",
       " '05-26_shanghai.txt',\n",
       " '05-27_cairo.txt',\n",
       " '05-27_dhaka.txt',\n",
       " '05-27_karachi.txt',\n",
       " '05-27_manila.txt',\n",
       " '05-27_melbourne.txt',\n",
       " '05-28_dhaka.txt',\n",
       " '05-28_jakarta.txt',\n",
       " '05-28_karachi.txt',\n",
       " '05-28_shanghai.txt',\n",
       " '05-28_singapore.txt',\n",
       " '05-28_tokyo.txt',\n",
       " '05-29_cairo.txt',\n",
       " '05-29_dhaka.txt',\n",
       " '05-29_jakarta.txt',\n",
       " '05-29_karachi.txt',\n",
       " '05-30_cairo.txt',\n",
       " '05-30_dhaka.txt',\n",
       " '05-30_karachi.txt',\n",
       " '05-30_manila.txt',\n",
       " '05-30_melbourne.txt',\n",
       " '05-30_singapore.txt',\n",
       " '05-30_tokyo.txt',\n",
       " '06-01_singapore.txt',\n",
       " '06-02_dhaka.txt',\n",
       " '06-02_singapore.txt',\n",
       " '06-03_jakarta.txt',\n",
       " '06-03_manila.txt',\n",
       " '06-03_osaka.txt',\n",
       " '06-03_shanghai.txt',\n",
       " '06-04_dhaka.txt',\n",
       " '06-04_jakarta.txt',\n",
       " '06-04_osaka.txt',\n",
       " '06-05_dhaka.txt',\n",
       " '06-05_manila.txt',\n",
       " '06-05_osaka.txt',\n",
       " '06-05_singapore.txt',\n",
       " '06-05_tokyo.txt',\n",
       " '06-06_melbourne.txt',\n",
       " '06-06_osaka.txt',\n",
       " '06-06_shanghai.txt',\n",
       " '06-06_singapore.txt',\n",
       " '06-07_dhaka.txt',\n",
       " '06-07_shanghai.txt',\n",
       " '06-07_singapore.txt',\n",
       " '06-07_tokyo.txt',\n",
       " '06-08_jakarta.txt',\n",
       " '06-08_melbourne.txt',\n",
       " '06-08_shanghai.txt',\n",
       " '06-08_singapore.txt',\n",
       " '06-08_tokyo.txt',\n",
       " '06-09_dhaka.txt',\n",
       " '06-09_karachi.txt',\n",
       " '06-09_singapore.txt',\n",
       " '06-10_jakarta.txt',\n",
       " '06-10_manila.txt',\n",
       " '06-10_shanghai.txt',\n",
       " '06-11_dhaka.txt',\n",
       " '06-11_karachi.txt',\n",
       " '06-11_osaka.txt',\n",
       " '06-11_shanghai.txt',\n",
       " '06-11_singapore.txt',\n",
       " '06-11_tokyo.txt',\n",
       " '06-12_dhaka.txt',\n",
       " '06-12_karachi.txt',\n",
       " '06-12_manila.txt',\n",
       " '06-12_osaka.txt',\n",
       " '06-12_shanghai.txt',\n",
       " '06-12_tokyo.txt',\n",
       " '06-13_manila.txt',\n",
       " '06-13_shanghai.txt',\n",
       " '06-14_tokyo.txt',\n",
       " '06-15_jakarta.txt',\n",
       " '06-15_manila.txt',\n",
       " '06-15_melbourne.txt',\n",
       " '06-15_osaka.txt',\n",
       " '06-15_singapore.txt',\n",
       " '06-16_karachi.txt',\n",
       " '06-16_manila.txt',\n",
       " '06-16_melbourne.txt',\n",
       " '06-16_osaka.txt',\n",
       " '06-16_singapore.txt',\n",
       " '06-17_dhaka.txt',\n",
       " '06-17_manila.txt',\n",
       " '06-17_tokyo.txt',\n",
       " '06-18_dhaka.txt',\n",
       " '06-18_karachi.txt',\n",
       " '06-18_manila.txt',\n",
       " '06-18_tokyo.txt',\n",
       " '06-19_dhaka.txt',\n",
       " '06-19_osaka.txt',\n",
       " '06-20_dhaka.txt',\n",
       " '06-20_manila.txt',\n",
       " '06-20_tokyo.txt',\n",
       " '06-21_dhaka.txt',\n",
       " '06-21_jakarta.txt',\n",
       " '06-22_dhaka.txt',\n",
       " '06-22_jakarta.txt',\n",
       " '06-22_karachi.txt',\n",
       " '06-22_manila.txt',\n",
       " '06-22_tokyo.txt',\n",
       " '06-23_dhaka.txt',\n",
       " '06-23_osaka.txt',\n",
       " '06-23_singapore.txt',\n",
       " '06-23_tokyo.txt',\n",
       " '06-24_dhaka.txt',\n",
       " '06-24_manila.txt',\n",
       " '06-24_osaka.txt',\n",
       " '06-25_dhaka.txt',\n",
       " '06-25_jakarta.txt',\n",
       " '06-25_manila.txt',\n",
       " '06-25_tokyo.txt',\n",
       " '06-26_dhaka.txt',\n",
       " '06-26_manila.txt',\n",
       " '06-27_dhaka.txt',\n",
       " '06-27_manila.txt',\n",
       " '06-28_cairo.txt',\n",
       " '06-28_dhaka.txt',\n",
       " '06-28_jakarta.txt',\n",
       " '06-28_melbourne.txt',\n",
       " '06-28_osaka.txt',\n",
       " '06-28_tokyo.txt',\n",
       " '06-29_karachi.txt',\n",
       " '06-29_osaka.txt',\n",
       " '06-29_tokyo.txt',\n",
       " '07-01_dhaka.txt',\n",
       " '07-01_karachi.txt',\n",
       " '07-01_manila.txt',\n",
       " '07-01_melbourne.txt',\n",
       " '07-02_dhaka.txt',\n",
       " '07-02_melbourne.txt',\n",
       " '07-02_shanghai.txt',\n",
       " '07-02_singapore.txt',\n",
       " '07-02_tokyo.txt',\n",
       " '07-03_manila.txt',\n",
       " '07-03_melbourne.txt',\n",
       " '07-03_shanghai.txt',\n",
       " '07-03_singapore.txt',\n",
       " '07-04_cairo.txt',\n",
       " '07-04_jakarta.txt',\n",
       " '07-04_karachi.txt',\n",
       " '07-04_singapore.txt',\n",
       " '07-04_tokyo.txt',\n",
       " '07-05_dhaka.txt',\n",
       " '07-05_shanghai.txt',\n",
       " '07-05_singapore.txt',\n",
       " '07-05_tokyo.txt',\n",
       " '07-06_dhaka.txt',\n",
       " '07-06_manila.txt',\n",
       " '07-06_melbourne.txt',\n",
       " '07-06_osaka.txt',\n",
       " '07-06_shanghai.txt',\n",
       " '07-06_singapore.txt',\n",
       " '07-06_tokyo.txt',\n",
       " '07-07_manila.txt',\n",
       " '07-07_melbourne.txt',\n",
       " '07-07_osaka.txt',\n",
       " '07-07_singapore.txt',\n",
       " '07-08_cairo.txt',\n",
       " '07-08_dhaka.txt',\n",
       " '07-08_karachi.txt',\n",
       " '07-08_manila.txt',\n",
       " '07-08_shanghai.txt',\n",
       " '07-08_singapore.txt',\n",
       " '07-09_dhaka.txt',\n",
       " '07-09_jakarta.txt',\n",
       " '07-09_karachi.txt',\n",
       " '07-09_melbourne.txt',\n",
       " '07-09_shanghai.txt',\n",
       " '07-09_singapore.txt',\n",
       " '07-10_cairo.txt',\n",
       " '07-10_dhaka.txt',\n",
       " '07-10_shanghai.txt',\n",
       " '07-10_tokyo.txt',\n",
       " '07-11_dhaka.txt',\n",
       " '07-11_shanghai.txt',\n",
       " '07-11_tokyo.txt',\n",
       " '07-12_dhaka.txt',\n",
       " '07-12_jakarta.txt',\n",
       " '07-12_karachi.txt',\n",
       " '07-12_shanghai.txt',\n",
       " '07-12_tokyo.txt',\n",
       " '07-13_cairo.txt',\n",
       " '07-13_dhaka.txt',\n",
       " '07-13_osaka.txt',\n",
       " '07-13_tokyo.txt',\n",
       " '07-14_cairo.txt',\n",
       " '07-14_jakarta.txt',\n",
       " '07-14_karachi.txt',\n",
       " '07-14_singapore.txt',\n",
       " '07-15_cairo.txt',\n",
       " '07-15_dhaka.txt',\n",
       " '07-15_manila.txt',\n",
       " '07-15_osaka.txt',\n",
       " '07-15_shanghai.txt',\n",
       " '07-15_tokyo.txt',\n",
       " '07-16_cairo.txt',\n",
       " '07-16_dhaka.txt',\n",
       " '07-16_jakarta.txt',\n",
       " '07-16_karachi.txt',\n",
       " '07-16_manila.txt',\n",
       " '07-16_melbourne.txt',\n",
       " '07-16_osaka.txt',\n",
       " '07-16_singapore.txt',\n",
       " '07-17_cairo.txt',\n",
       " '07-17_melbourne.txt',\n",
       " '07-17_shanghai.txt',\n",
       " '07-17_singapore.txt',\n",
       " '07-18_dhaka.txt',\n",
       " '07-18_jakarta.txt',\n",
       " '07-18_singapore.txt',\n",
       " '07-19_cairo.txt',\n",
       " '07-19_manila.txt',\n",
       " '07-19_osaka.txt',\n",
       " '07-19_shanghai.txt',\n",
       " '07-19_tokyo.txt',\n",
       " '07-20_manila.txt',\n",
       " '07-20_melbourne.txt',\n",
       " '07-20_tokyo.txt',\n",
       " '07-21_jakarta.txt',\n",
       " '07-21_karachi.txt',\n",
       " '07-21_manila.txt',\n",
       " '07-21_melbourne.txt',\n",
       " '07-21_osaka.txt',\n",
       " '07-22_manila.txt',\n",
       " '07-22_melbourne.txt',\n",
       " '07-22_shanghai.txt',\n",
       " '07-22_singapore.txt',\n",
       " '07-23_dhaka.txt',\n",
       " '07-23_jakarta.txt',\n",
       " '07-23_karachi.txt',\n",
       " '07-23_melbourne.txt',\n",
       " '07-23_shanghai.txt',\n",
       " '07-23_singapore.txt',\n",
       " '07-24_cairo.txt',\n",
       " '07-24_dhaka.txt',\n",
       " '07-24_jakarta.txt',\n",
       " '07-24_karachi.txt',\n",
       " '07-24_shanghai.txt',\n",
       " '07-25_karachi.txt',\n",
       " '07-25_manila.txt',\n",
       " '07-25_melbourne.txt',\n",
       " '07-25_singapore.txt',\n",
       " '07-26_cairo.txt',\n",
       " '07-26_melbourne.txt',\n",
       " '07-26_shanghai.txt',\n",
       " '07-26_singapore.txt',\n",
       " '07-26_tokyo.txt',\n",
       " '07-27_cairo.txt',\n",
       " '07-27_jakarta.txt',\n",
       " '07-27_manila.txt',\n",
       " '07-27_melbourne.txt',\n",
       " '07-27_osaka.txt',\n",
       " '07-27_singapore.txt',\n",
       " '07-27_tokyo.txt',\n",
       " '07-28_dhaka.txt',\n",
       " '07-28_jakarta.txt',\n",
       " '07-28_manila.txt',\n",
       " '07-28_singapore.txt',\n",
       " '07-28_tokyo.txt',\n",
       " '07-29_cairo.txt',\n",
       " '07-29_singapore.txt',\n",
       " '07-29_tokyo.txt',\n",
       " '07-30_cairo.txt',\n",
       " '07-30_dhaka.txt',\n",
       " '07-30_jakarta.txt',\n",
       " '07-30_melbourne.txt',\n",
       " '08-01_cairo.txt',\n",
       " '08-01_shanghai.txt',\n",
       " '08-02_dhaka.txt',\n",
       " '08-02_jakarta.txt',\n",
       " '08-02_karachi.txt',\n",
       " '08-02_osaka.txt',\n",
       " '08-02_shanghai.txt',\n",
       " '08-03_cairo.txt',\n",
       " '08-03_dhaka.txt',\n",
       " '08-03_manila.txt',\n",
       " '08-03_melbourne.txt',\n",
       " '08-03_osaka.txt',\n",
       " '08-04_cairo.txt',\n",
       " '08-04_karachi.txt',\n",
       " '08-04_melbourne.txt',\n",
       " '08-04_shanghai.txt',\n",
       " '08-05_cairo.txt',\n",
       " '08-05_dhaka.txt',\n",
       " '08-05_jakarta.txt',\n",
       " '08-05_manila.txt',\n",
       " '08-05_shanghai.txt',\n",
       " '08-05_tokyo.txt',\n",
       " '08-06_dhaka.txt',\n",
       " '08-06_melbourne.txt',\n",
       " '08-06_osaka.txt',\n",
       " '08-06_singapore.txt',\n",
       " '08-07_cairo.txt',\n",
       " '08-07_jakarta.txt',\n",
       " '08-08_cairo.txt',\n",
       " '08-08_dhaka.txt',\n",
       " '08-08_melbourne.txt',\n",
       " '08-08_osaka.txt',\n",
       " '08-08_singapore.txt',\n",
       " '08-09_dhaka.txt',\n",
       " '08-09_jakarta.txt',\n",
       " '08-09_singapore.txt',\n",
       " '08-10_cairo.txt',\n",
       " '08-10_dhaka.txt',\n",
       " '08-10_melbourne.txt',\n",
       " '08-10_osaka.txt',\n",
       " '08-11_dhaka.txt',\n",
       " '08-11_jakarta.txt',\n",
       " '08-11_karachi.txt',\n",
       " '08-11_manila.txt',\n",
       " '08-11_melbourne.txt',\n",
       " '08-12_cairo.txt',\n",
       " '08-12_jakarta.txt',\n",
       " '08-12_karachi.txt',\n",
       " '08-12_manila.txt',\n",
       " '08-12_osaka.txt',\n",
       " '08-12_shanghai.txt',\n",
       " '08-12_tokyo.txt',\n",
       " '08-13_jakarta.txt',\n",
       " '08-13_manila.txt',\n",
       " '08-13_melbourne.txt',\n",
       " '08-13_osaka.txt',\n",
       " '08-13_shanghai.txt',\n",
       " '08-14_cairo.txt',\n",
       " '08-14_dhaka.txt',\n",
       " '08-14_karachi.txt',\n",
       " '08-14_shanghai.txt',\n",
       " '08-14_tokyo.txt',\n",
       " '08-15_manila.txt',\n",
       " '08-15_melbourne.txt',\n",
       " '08-15_osaka.txt',\n",
       " '08-15_shanghai.txt',\n",
       " '08-16_manila.txt',\n",
       " '08-16_shanghai.txt',\n",
       " '08-17_jakarta.txt',\n",
       " '08-17_karachi.txt',\n",
       " '08-17_manila.txt',\n",
       " '08-17_osaka.txt',\n",
       " '08-17_shanghai.txt',\n",
       " '08-18_cairo.txt',\n",
       " '08-18_dhaka.txt',\n",
       " '08-18_shanghai.txt',\n",
       " '08-19_cairo.txt',\n",
       " '08-19_dhaka.txt',\n",
       " '08-19_karachi.txt',\n",
       " '08-19_manila.txt',\n",
       " '08-19_melbourne.txt',\n",
       " '08-19_osaka.txt',\n",
       " '08-19_shanghai.txt',\n",
       " '08-20_cairo.txt',\n",
       " '08-20_dhaka.txt',\n",
       " '08-20_jakarta.txt',\n",
       " '08-20_karachi.txt',\n",
       " '08-20_osaka.txt',\n",
       " '08-20_tokyo.txt',\n",
       " '08-21_jakarta.txt',\n",
       " '08-21_karachi.txt',\n",
       " '08-21_manila.txt',\n",
       " '08-21_osaka.txt',\n",
       " '08-22_dhaka.txt',\n",
       " '08-22_jakarta.txt',\n",
       " '08-22_manila.txt',\n",
       " '08-22_melbourne.txt',\n",
       " '08-22_osaka.txt',\n",
       " '08-23_dhaka.txt',\n",
       " '08-24_cairo.txt',\n",
       " '08-24_manila.txt',\n",
       " '08-24_melbourne.txt',\n",
       " '08-24_osaka.txt',\n",
       " '08-24_singapore.txt',\n",
       " '08-25_cairo.txt',\n",
       " '08-25_dhaka.txt',\n",
       " '08-25_manila.txt',\n",
       " '08-25_melbourne.txt',\n",
       " '08-25_osaka.txt',\n",
       " '08-25_shanghai.txt',\n",
       " '08-26_cairo.txt',\n",
       " '08-26_dhaka.txt',\n",
       " '08-26_jakarta.txt',\n",
       " '08-26_karachi.txt',\n",
       " '08-26_manila.txt',\n",
       " '08-26_shanghai.txt',\n",
       " '08-27_dhaka.txt',\n",
       " '08-27_melbourne.txt',\n",
       " '08-28_jakarta.txt',\n",
       " '08-28_manila.txt',\n",
       " '08-28_melbourne.txt',\n",
       " '08-28_osaka.txt',\n",
       " '08-28_shanghai.txt',\n",
       " '08-29_karachi.txt',\n",
       " '08-29_manila.txt',\n",
       " '08-29_shanghai.txt',\n",
       " '08-30_dhaka.txt',\n",
       " '09-01_manila.txt',\n",
       " '09-01_melbourne.txt',\n",
       " '09-01_osaka.txt',\n",
       " '09-01_tokyo.txt',\n",
       " '09-02_cairo.txt',\n",
       " '09-02_melbourne.txt',\n",
       " '09-02_osaka.txt',\n",
       " '09-02_tokyo.txt',\n",
       " '09-03_jakarta.txt',\n",
       " '09-03_osaka.txt',\n",
       " '09-03_shanghai.txt',\n",
       " '09-03_singapore.txt',\n",
       " '09-04_cairo.txt',\n",
       " '09-04_karachi.txt',\n",
       " '09-04_shanghai.txt',\n",
       " '09-04_tokyo.txt',\n",
       " '09-05_cairo.txt',\n",
       " '09-05_jakarta.txt',\n",
       " '09-05_manila.txt',\n",
       " '09-05_shanghai.txt',\n",
       " '09-05_tokyo.txt',\n",
       " '09-06_karachi.txt',\n",
       " '09-06_melbourne.txt',\n",
       " '09-06_osaka.txt',\n",
       " '09-06_tokyo.txt',\n",
       " '09-07_cairo.txt',\n",
       " '09-07_karachi.txt',\n",
       " '09-07_osaka.txt',\n",
       " '09-07_shanghai.txt',\n",
       " '09-07_singapore.txt',\n",
       " '09-07_tokyo.txt',\n",
       " '09-08_cairo.txt',\n",
       " '09-08_osaka.txt',\n",
       " '09-08_shanghai.txt',\n",
       " '09-09_manila.txt',\n",
       " '09-09_melbourne.txt',\n",
       " '09-09_osaka.txt',\n",
       " '09-09_shanghai.txt',\n",
       " '09-10_karachi.txt',\n",
       " '09-10_tokyo.txt',\n",
       " '09-11_cairo.txt',\n",
       " '09-11_jakarta.txt',\n",
       " '09-11_manila.txt',\n",
       " '09-11_melbourne.txt',\n",
       " '09-11_osaka.txt',\n",
       " '09-11_shanghai.txt',\n",
       " '09-11_singapore.txt',\n",
       " '09-11_tokyo.txt',\n",
       " '09-12_cairo.txt',\n",
       " '09-12_jakarta.txt',\n",
       " '09-12_melbourne.txt',\n",
       " '09-12_singapore.txt',\n",
       " '09-13_cairo.txt',\n",
       " '09-13_jakarta.txt',\n",
       " '09-13_melbourne.txt',\n",
       " '09-13_osaka.txt',\n",
       " '09-13_singapore.txt',\n",
       " '09-13_tokyo.txt',\n",
       " '09-14_melbourne.txt',\n",
       " '09-14_osaka.txt',\n",
       " '09-14_tokyo.txt',\n",
       " '09-15_jakarta.txt',\n",
       " '09-15_melbourne.txt',\n",
       " '09-15_osaka.txt',\n",
       " '09-15_shanghai.txt',\n",
       " '09-16_cairo.txt',\n",
       " '09-16_jakarta.txt',\n",
       " '09-16_osaka.txt',\n",
       " '09-16_tokyo.txt',\n",
       " '09-17_manila.txt',\n",
       " '09-17_tokyo.txt',\n",
       " '09-18_cairo.txt',\n",
       " '09-18_jakarta.txt',\n",
       " '09-19_dhaka.txt',\n",
       " '09-19_jakarta.txt',\n",
       " '09-19_melbourne.txt',\n",
       " '09-19_osaka.txt',\n",
       " '09-19_shanghai.txt',\n",
       " '09-19_singapore.txt',\n",
       " '09-19_tokyo.txt',\n",
       " '09-20_cairo.txt',\n",
       " '09-20_jakarta.txt',\n",
       " '09-20_karachi.txt',\n",
       " '09-20_osaka.txt',\n",
       " '09-20_shanghai.txt',\n",
       " '09-20_singapore.txt',\n",
       " '09-20_tokyo.txt',\n",
       " '09-21_jakarta.txt',\n",
       " '09-21_karachi.txt',\n",
       " '09-21_melbourne.txt',\n",
       " '09-21_osaka.txt',\n",
       " '09-21_shanghai.txt',\n",
       " '09-21_singapore.txt',\n",
       " '09-21_tokyo.txt',\n",
       " '09-22_cairo.txt',\n",
       " '09-22_karachi.txt',\n",
       " '09-22_osaka.txt',\n",
       " '09-22_tokyo.txt',\n",
       " '09-23_cairo.txt',\n",
       " '09-23_osaka.txt',\n",
       " '09-23_shanghai.txt',\n",
       " '09-23_singapore.txt',\n",
       " '09-24_cairo.txt',\n",
       " '09-24_jakarta.txt',\n",
       " '09-24_melbourne.txt',\n",
       " '09-24_osaka.txt',\n",
       " '09-24_singapore.txt',\n",
       " '09-25_cairo.txt',\n",
       " '09-25_dhaka.txt',\n",
       " '09-25_jakarta.txt',\n",
       " '09-25_karachi.txt',\n",
       " '09-25_osaka.txt',\n",
       " '09-25_shanghai.txt',\n",
       " '09-25_singapore.txt',\n",
       " '09-26_cairo.txt',\n",
       " '09-26_karachi.txt',\n",
       " '09-26_melbourne.txt',\n",
       " '09-26_osaka.txt',\n",
       " '09-26_shanghai.txt',\n",
       " '09-26_tokyo.txt',\n",
       " '09-27_jakarta.txt',\n",
       " '09-27_shanghai.txt',\n",
       " '09-28_cairo.txt',\n",
       " '09-28_karachi.txt',\n",
       " '09-28_melbourne.txt',\n",
       " '09-29_dhaka.txt',\n",
       " '09-29_jakarta.txt',\n",
       " '09-29_karachi.txt',\n",
       " '09-29_osaka.txt',\n",
       " '09-29_singapore.txt',\n",
       " '10-01_dhaka.txt',\n",
       " '10-01_singapore.txt',\n",
       " '10-01_tokyo.txt',\n",
       " ...]"
      ]
     },
     "execution_count": 12,
     "metadata": {},
     "output_type": "execute_result"
    }
   ],
   "source": [
    "os.listdir()"
   ]
  },
  {
   "cell_type": "code",
   "execution_count": 17,
   "id": "1e91c3c5",
   "metadata": {},
   "outputs": [],
   "source": [
    "citylist = ['Cairo', 'Dhaka', 'Jakarta', 'Karachi', 'Manila',\n",
    " 'Melbourne', 'Osaka', 'Shanghai', 'Singapore', 'Tokyo']\n",
    "for city in citylist:\n",
    "    os.mkdir(city)\n"
   ]
  },
  {
   "cell_type": "code",
   "execution_count": 22,
   "id": "c896f22f",
   "metadata": {},
   "outputs": [],
   "source": [
    "for cairof in glob.glob('*cairo.*'):\n",
    "    shutil.copy(cairof, 'Cairo')\n",
    "    "
   ]
  },
  {
   "cell_type": "code",
   "execution_count": 31,
   "id": "0153fea8",
   "metadata": {},
   "outputs": [],
   "source": [
    "for city in citylist:\n",
    "    for cityf in glob.glob(f'*{city}.*'):\n",
    "        pathtocity = os.path.join(city, cityf)\n",
    "        if os.path.exists(pathtocity): continue\n",
    "        else: \n",
    "            shutil.copy(cityf, city)\n"
   ]
  },
  {
   "cell_type": "code",
   "execution_count": 34,
   "id": "2479bbcf",
   "metadata": {},
   "outputs": [
    {
     "data": {
      "text/plain": [
       "['01-03_shanghai.txt',\n",
       " '01-10_shanghai.txt',\n",
       " '01-22_shanghai.txt',\n",
       " '01-26_shanghai.txt',\n",
       " '01-29_shanghai.txt',\n",
       " '02-01_shanghai.txt',\n",
       " '02-05_shanghai.txt',\n",
       " '02-11_shanghai.txt',\n",
       " '02-12_shanghai.txt',\n",
       " '02-13_shanghai.txt',\n",
       " '02-15_shanghai.txt',\n",
       " '02-16_shanghai.txt',\n",
       " '02-17_shanghai.txt',\n",
       " '02-18_shanghai.txt',\n",
       " '02-23_shanghai.txt',\n",
       " '03-14_shanghai.txt',\n",
       " '03-16_shanghai.txt',\n",
       " '04-01_shanghai.txt',\n",
       " '04-02_shanghai.txt',\n",
       " '04-04_shanghai.txt',\n",
       " '04-05_shanghai.txt',\n",
       " '04-08_shanghai.txt',\n",
       " '04-10_shanghai.txt',\n",
       " '04-11_shanghai.txt',\n",
       " '04-12_shanghai.txt',\n",
       " '04-13_shanghai.txt',\n",
       " '04-16_shanghai.txt',\n",
       " '04-17_shanghai.txt',\n",
       " '04-18_shanghai.txt',\n",
       " '04-19_shanghai.txt',\n",
       " '04-21_shanghai.txt',\n",
       " '04-23_shanghai.txt',\n",
       " '04-27_shanghai.txt',\n",
       " '04-29_shanghai.txt',\n",
       " '05-01_shanghai.txt',\n",
       " '05-03_shanghai.txt',\n",
       " '05-06_shanghai.txt',\n",
       " '05-14_shanghai.txt',\n",
       " '05-18_shanghai.txt',\n",
       " '05-26_shanghai.txt',\n",
       " '05-28_shanghai.txt',\n",
       " '06-03_shanghai.txt',\n",
       " '06-06_shanghai.txt',\n",
       " '06-07_shanghai.txt',\n",
       " '06-08_shanghai.txt',\n",
       " '06-10_shanghai.txt',\n",
       " '06-11_shanghai.txt',\n",
       " '06-12_shanghai.txt',\n",
       " '06-13_shanghai.txt',\n",
       " '07-02_shanghai.txt',\n",
       " '07-03_shanghai.txt',\n",
       " '07-05_shanghai.txt',\n",
       " '07-06_shanghai.txt',\n",
       " '07-08_shanghai.txt',\n",
       " '07-09_shanghai.txt',\n",
       " '07-10_shanghai.txt',\n",
       " '07-11_shanghai.txt',\n",
       " '07-12_shanghai.txt',\n",
       " '07-15_shanghai.txt',\n",
       " '07-17_shanghai.txt',\n",
       " '07-19_shanghai.txt',\n",
       " '07-22_shanghai.txt',\n",
       " '07-23_shanghai.txt',\n",
       " '07-24_shanghai.txt',\n",
       " '07-26_shanghai.txt',\n",
       " '08-01_shanghai.txt',\n",
       " '08-02_shanghai.txt',\n",
       " '08-04_shanghai.txt',\n",
       " '08-05_shanghai.txt',\n",
       " '08-12_shanghai.txt',\n",
       " '08-13_shanghai.txt',\n",
       " '08-14_shanghai.txt',\n",
       " '08-15_shanghai.txt',\n",
       " '08-16_shanghai.txt',\n",
       " '08-17_shanghai.txt',\n",
       " '08-18_shanghai.txt',\n",
       " '08-19_shanghai.txt',\n",
       " '08-25_shanghai.txt',\n",
       " '08-26_shanghai.txt',\n",
       " '08-28_shanghai.txt',\n",
       " '08-29_shanghai.txt',\n",
       " '09-03_shanghai.txt',\n",
       " '09-04_shanghai.txt',\n",
       " '09-05_shanghai.txt',\n",
       " '09-07_shanghai.txt',\n",
       " '09-08_shanghai.txt',\n",
       " '09-09_shanghai.txt',\n",
       " '09-11_shanghai.txt',\n",
       " '09-15_shanghai.txt',\n",
       " '09-19_shanghai.txt',\n",
       " '09-20_shanghai.txt',\n",
       " '09-21_shanghai.txt',\n",
       " '09-23_shanghai.txt',\n",
       " '09-25_shanghai.txt',\n",
       " '09-26_shanghai.txt',\n",
       " '09-27_shanghai.txt',\n",
       " '10-02_shanghai.txt',\n",
       " '10-03_shanghai.txt',\n",
       " '10-04_shanghai.txt',\n",
       " '10-05_shanghai.txt',\n",
       " '10-07_shanghai.txt',\n",
       " '10-08_shanghai.txt',\n",
       " '10-09_shanghai.txt',\n",
       " '10-11_shanghai.txt',\n",
       " '10-14_shanghai.txt',\n",
       " '10-15_shanghai.txt',\n",
       " '10-16_shanghai.txt',\n",
       " '10-18_shanghai.txt',\n",
       " '10-19_shanghai.txt',\n",
       " '10-21_shanghai.txt',\n",
       " '10-22_shanghai.txt',\n",
       " '10-24_shanghai.txt',\n",
       " '10-26_shanghai.txt',\n",
       " '10-27_shanghai.txt',\n",
       " '11-01_shanghai.txt',\n",
       " '11-12_shanghai.txt',\n",
       " '12-05_shanghai.txt',\n",
       " '12-06_shanghai.txt',\n",
       " '12-07_shanghai.txt',\n",
       " '12-08_shanghai.txt',\n",
       " '12-11_shanghai.txt',\n",
       " '12-15_shanghai.txt',\n",
       " '12-17_shanghai.txt',\n",
       " '12-18_shanghai.txt',\n",
       " '12-19_shanghai.txt',\n",
       " '12-20_shanghai.txt',\n",
       " '12-21_shanghai.txt',\n",
       " '12-22_shanghai.txt',\n",
       " '12-24_shanghai.txt',\n",
       " '12-25_shanghai.txt',\n",
       " '12-27_shanghai.txt',\n",
       " '12-28_shanghai.txt',\n",
       " 'apr-01_shanghai.png',\n",
       " 'apr-02_shanghai.jpg',\n",
       " 'apr-02_shanghai.pdf',\n",
       " 'apr-02_shanghai.png',\n",
       " 'apr-04_shanghai.pdf',\n",
       " 'apr-05_shanghai.jpg',\n",
       " 'apr-08_shanghai.jpg',\n",
       " 'apr-10_shanghai.png',\n",
       " 'apr-11_shanghai.png',\n",
       " 'apr-12_shanghai.pdf',\n",
       " 'apr-12_shanghai.png',\n",
       " 'apr-13_shanghai.pdf',\n",
       " 'apr-16_shanghai.png',\n",
       " 'apr-17_shanghai.png',\n",
       " 'apr-18_shanghai.jpg',\n",
       " 'apr-18_shanghai.png',\n",
       " 'apr-19_shanghai.jpg',\n",
       " 'apr-19_shanghai.pdf',\n",
       " 'apr-19_shanghai.png',\n",
       " 'apr-21_shanghai.pdf',\n",
       " 'apr-21_shanghai.png',\n",
       " 'apr-23_shanghai.pdf',\n",
       " 'apr-23_shanghai.png',\n",
       " 'apr-27_shanghai.jpg',\n",
       " 'apr-29_shanghai.jpg',\n",
       " 'aug-01_shanghai.pdf',\n",
       " 'aug-02_shanghai.jpg',\n",
       " 'aug-04_shanghai.pdf',\n",
       " 'aug-05_shanghai.png',\n",
       " 'aug-12_shanghai.jpg',\n",
       " 'aug-12_shanghai.png',\n",
       " 'aug-13_shanghai.pdf',\n",
       " 'aug-14_shanghai.jpg',\n",
       " 'aug-15_shanghai.jpg',\n",
       " 'aug-16_shanghai.jpg',\n",
       " 'aug-16_shanghai.png',\n",
       " 'aug-17_shanghai.jpg',\n",
       " 'aug-17_shanghai.pdf',\n",
       " 'aug-18_shanghai.pdf',\n",
       " 'aug-19_shanghai.png',\n",
       " 'aug-25_shanghai.png',\n",
       " 'aug-26_shanghai.jpg',\n",
       " 'aug-28_shanghai.pdf',\n",
       " 'aug-29_shanghai.png',\n",
       " 'dec-05_shanghai.jpg',\n",
       " 'dec-05_shanghai.png',\n",
       " 'dec-06_shanghai.png',\n",
       " 'dec-07_shanghai.pdf',\n",
       " 'dec-08_shanghai.jpg',\n",
       " 'dec-11_shanghai.png',\n",
       " 'dec-15_shanghai.pdf',\n",
       " 'dec-17_shanghai.jpg',\n",
       " 'dec-18_shanghai.jpg',\n",
       " 'dec-18_shanghai.pdf',\n",
       " 'dec-19_shanghai.pdf',\n",
       " 'dec-19_shanghai.png',\n",
       " 'dec-20_shanghai.jpg',\n",
       " 'dec-20_shanghai.png',\n",
       " 'dec-21_shanghai.jpg',\n",
       " 'dec-22_shanghai.pdf',\n",
       " 'dec-22_shanghai.png',\n",
       " 'dec-24_shanghai.pdf',\n",
       " 'dec-25_shanghai.pdf',\n",
       " 'dec-27_shanghai.jpg',\n",
       " 'dec-28_shanghai.pdf',\n",
       " 'dec-28_shanghai.png',\n",
       " 'feb-01_shanghai.png',\n",
       " 'feb-05_shanghai.png',\n",
       " 'feb-11_shanghai.jpg',\n",
       " 'feb-12_shanghai.png',\n",
       " 'feb-13_shanghai.jpg',\n",
       " 'feb-15_shanghai.png',\n",
       " 'feb-16_shanghai.png',\n",
       " 'feb-17_shanghai.jpg',\n",
       " 'feb-17_shanghai.pdf',\n",
       " 'feb-17_shanghai.png',\n",
       " 'feb-18_shanghai.jpg',\n",
       " 'feb-18_shanghai.png',\n",
       " 'feb-23_shanghai.pdf',\n",
       " 'feb-23_shanghai.png',\n",
       " 'jan-03_shanghai.jpg',\n",
       " 'jan-10_shanghai.pdf',\n",
       " 'jan-22_shanghai.pdf',\n",
       " 'jan-26_shanghai.png',\n",
       " 'jan-29_shanghai.pdf',\n",
       " 'jul-02_shanghai.jpg',\n",
       " 'jul-03_shanghai.jpg',\n",
       " 'jul-05_shanghai.pdf',\n",
       " 'jul-06_shanghai.pdf',\n",
       " 'jul-06_shanghai.png',\n",
       " 'jul-08_shanghai.pdf',\n",
       " 'jul-09_shanghai.pdf',\n",
       " 'jul-09_shanghai.png',\n",
       " 'jul-10_shanghai.pdf',\n",
       " 'jul-10_shanghai.png',\n",
       " 'jul-11_shanghai.pdf',\n",
       " 'jul-12_shanghai.pdf',\n",
       " 'jul-12_shanghai.png',\n",
       " 'jul-15_shanghai.jpg',\n",
       " 'jul-17_shanghai.png',\n",
       " 'jul-19_shanghai.pdf',\n",
       " 'jul-22_shanghai.pdf',\n",
       " 'jul-22_shanghai.png',\n",
       " 'jul-23_shanghai.pdf',\n",
       " 'jul-23_shanghai.png',\n",
       " 'jul-24_shanghai.jpg',\n",
       " 'jul-24_shanghai.pdf',\n",
       " 'jul-24_shanghai.png',\n",
       " 'jul-26_shanghai.pdf',\n",
       " 'jun-03_shanghai.jpg',\n",
       " 'jun-03_shanghai.png',\n",
       " 'jun-06_shanghai.jpg',\n",
       " 'jun-06_shanghai.png',\n",
       " 'jun-07_shanghai.pdf',\n",
       " 'jun-08_shanghai.pdf',\n",
       " 'jun-10_shanghai.jpg',\n",
       " 'jun-10_shanghai.pdf',\n",
       " 'jun-11_shanghai.pdf',\n",
       " 'jun-11_shanghai.png',\n",
       " 'jun-12_shanghai.jpg',\n",
       " 'jun-13_shanghai.png',\n",
       " 'mar-14_shanghai.jpg',\n",
       " 'mar-16_shanghai.png',\n",
       " 'may-01_shanghai.pdf',\n",
       " 'may-03_shanghai.pdf',\n",
       " 'may-06_shanghai.jpg',\n",
       " 'may-14_shanghai.png',\n",
       " 'may-18_shanghai.jpg',\n",
       " 'may-26_shanghai.jpg',\n",
       " 'may-28_shanghai.jpg',\n",
       " 'nov-01_shanghai.pdf',\n",
       " 'nov-12_shanghai.jpg',\n",
       " 'oct-02_shanghai.png',\n",
       " 'oct-03_shanghai.pdf',\n",
       " 'oct-04_shanghai.pdf',\n",
       " 'oct-04_shanghai.png',\n",
       " 'oct-05_shanghai.png',\n",
       " 'oct-07_shanghai.pdf',\n",
       " 'oct-08_shanghai.png',\n",
       " 'oct-09_shanghai.png',\n",
       " 'oct-11_shanghai.jpg',\n",
       " 'oct-14_shanghai.png',\n",
       " 'oct-15_shanghai.jpg',\n",
       " 'oct-16_shanghai.pdf',\n",
       " 'oct-18_shanghai.jpg',\n",
       " 'oct-19_shanghai.pdf',\n",
       " 'oct-21_shanghai.pdf',\n",
       " 'oct-22_shanghai.pdf',\n",
       " 'oct-24_shanghai.pdf',\n",
       " 'oct-24_shanghai.png',\n",
       " 'oct-26_shanghai.jpg',\n",
       " 'oct-26_shanghai.pdf',\n",
       " 'oct-27_shanghai.png',\n",
       " 'sep-03_shanghai.png',\n",
       " 'sep-04_shanghai.jpg',\n",
       " 'sep-04_shanghai.pdf',\n",
       " 'sep-05_shanghai.png',\n",
       " 'sep-07_shanghai.pdf',\n",
       " 'sep-08_shanghai.pdf',\n",
       " 'sep-09_shanghai.png',\n",
       " 'sep-11_shanghai.png',\n",
       " 'sep-15_shanghai.png',\n",
       " 'sep-19_shanghai.jpg',\n",
       " 'sep-20_shanghai.pdf',\n",
       " 'sep-21_shanghai.pdf',\n",
       " 'sep-23_shanghai.png',\n",
       " 'sep-25_shanghai.jpg',\n",
       " 'sep-25_shanghai.png',\n",
       " 'sep-26_shanghai.png',\n",
       " 'sep-27_shanghai.png']"
      ]
     },
     "execution_count": 34,
     "metadata": {},
     "output_type": "execute_result"
    }
   ],
   "source": [
    "os.listdir('Shanghai')"
   ]
  }
 ],
 "metadata": {
  "kernelspec": {
   "display_name": "Python 3 (ipykernel)",
   "language": "python",
   "name": "python3"
  },
  "language_info": {
   "codemirror_mode": {
    "name": "ipython",
    "version": 3
   },
   "file_extension": ".py",
   "mimetype": "text/x-python",
   "name": "python",
   "nbconvert_exporter": "python",
   "pygments_lexer": "ipython3",
   "version": "3.10.8"
  },
  "toc": {
   "base_numbering": 1,
   "nav_menu": {},
   "number_sections": true,
   "sideBar": true,
   "skip_h1_title": false,
   "title_cell": "Table of Contents",
   "title_sidebar": "Contents",
   "toc_cell": false,
   "toc_position": {},
   "toc_section_display": true,
   "toc_window_display": false
  },
  "varInspector": {
   "cols": {
    "lenName": 16,
    "lenType": 16,
    "lenVar": 40
   },
   "kernels_config": {
    "python": {
     "delete_cmd_postfix": "",
     "delete_cmd_prefix": "del ",
     "library": "var_list.py",
     "varRefreshCmd": "print(var_dic_list())"
    },
    "r": {
     "delete_cmd_postfix": ") ",
     "delete_cmd_prefix": "rm(",
     "library": "var_list.r",
     "varRefreshCmd": "cat(var_dic_list()) "
    }
   },
   "types_to_exclude": [
    "module",
    "function",
    "builtin_function_or_method",
    "instance",
    "_Feature"
   ],
   "window_display": false
  },
  "vscode": {
   "interpreter": {
    "hash": "31f2aee4e71d21fbe5cf8b01ff0e069b9275f58929596ceb00d14d90e3e16cd6"
   }
  }
 },
 "nbformat": 4,
 "nbformat_minor": 5
}
